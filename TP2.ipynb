{
 "cells": [
  {
   "cell_type": "markdown",
   "metadata": {
    "tags": []
   },
   "source": [
    "***\n",
    "<center><font color=\"dodgerblue\"><font size=\"7\"><b><i>Analyse de Données Développeur<br />(C5-160512-INFO)</i></b></font></font></center>\n",
    "\n",
    "***"
   ]
  },
  {
   "cell_type": "markdown",
   "metadata": {
    "tags": []
   },
   "source": [
    "<center><font color=\"darkorange\"><font size=\"8\"><b><i>3) Réduction de dimensionnalité par ACP (TP) <br/><font size=\"6\">&copy C. Frélicot, Automne 2023</font></i></b></font></font></center>\n",
    "\n",
    "***"
   ]
  },
  {
   "cell_type": "code",
   "metadata": {
    "ExecuteTime": {
     "end_time": "2024-11-16T18:21:03.370415Z",
     "start_time": "2024-11-16T18:21:02.892736Z"
    }
   },
   "source": [
    "import numpy as np\n",
    "import pandas as pd\n",
    "import matplotlib.pyplot as plt\n",
    "from numpy.matlib import repmat\n",
    "import warnings\n",
    "warnings.filterwarnings('ignore')"
   ],
   "outputs": [],
   "execution_count": 1
  },
  {
   "cell_type": "markdown",
   "metadata": {
    "tags": []
   },
   "source": [
    "***\n",
    "# 1)  Tableau de données (du TD)\n",
    "***\n",
    "## Lecture de fichier formatté à l'aide de *Pandas*."
   ]
  },
  {
   "cell_type": "code",
   "metadata": {
    "ExecuteTime": {
     "end_time": "2024-11-16T18:21:06.431160Z",
     "start_time": "2024-11-16T18:21:06.421147Z"
    }
   },
   "source": [
    "df = pd.read_excel(\"TD1-data.xls\",index_col=0)\n",
    "row_label = df.index.values \n",
    "col_label = df.columns.values\n",
    "X = df[col_label].values\n",
    "n, p = X.shape"
   ],
   "outputs": [],
   "execution_count": 2
  },
  {
   "cell_type": "markdown",
   "metadata": {},
   "source": [
    "## Paramètres (ACP) utilisateur."
   ]
  },
  {
   "cell_type": "code",
   "metadata": {
    "ExecuteTime": {
     "end_time": "2024-11-16T18:21:09.189449Z",
     "start_time": "2024-11-16T18:21:09.187311Z"
    }
   },
   "source": [
    "I = np.eye(p)\n",
    "D = np.eye(n)/n"
   ],
   "outputs": [],
   "execution_count": 3
  },
  {
   "cell_type": "markdown",
   "metadata": {},
   "source": [
    "## Copiez ici votre fonction python *standardize* du TP1 et vérifiez qu'elle retourne les bons résultats (TD)."
   ]
  },
  {
   "cell_type": "code",
   "metadata": {
    "ExecuteTime": {
     "end_time": "2024-11-16T18:21:19.472823Z",
     "start_time": "2024-11-16T18:21:19.470462Z"
    }
   },
   "source": [
    "def standardize(data,scale=False):\n",
    "    \n",
    "    data_p = data - np.mean(data, axis=0)\n",
    "    if scale:\n",
    "        data_s = data_p / np.std(data_p, axis=0)\n",
    "        transformed_data = data_s\n",
    "    else:\n",
    "        transformed_data = data_p\n",
    "    \n",
    "    cov_data = np.cov(transformed_data.T)\n",
    "    \n",
    "    return transformed_data, cov_data"
   ],
   "outputs": [],
   "execution_count": 4
  },
  {
   "cell_type": "code",
   "metadata": {
    "ExecuteTime": {
     "end_time": "2024-11-16T18:21:22.399026Z",
     "start_time": "2024-11-16T18:21:22.389645Z"
    }
   },
   "source": "Xs, V = standardize(X,scale=True)",
   "outputs": [],
   "execution_count": 5
  },
  {
   "cell_type": "markdown",
   "metadata": {},
   "source": [
    "***\n",
    "# 2) Solution de l'ACP\n",
    "***"
   ]
  },
  {
   "cell_type": "markdown",
   "metadata": {},
   "source": [
    "## 2-1) Pouvez-vous expliquer le bout de code ci-dessous, ligne par ligne ?"
   ]
  },
  {
   "cell_type": "code",
   "metadata": {
    "ExecuteTime": {
     "end_time": "2024-11-16T18:21:24.732377Z",
     "start_time": "2024-11-16T18:21:24.718460Z"
    }
   },
   "source": [
    "from numpy.linalg import eigh as eigen\n",
    "[valp,vectp] = eigen(V)\n",
    "valp = np.sort(valp)[::-1]\n",
    "vectp = vectp[:, valp.argsort()]"
   ],
   "outputs": [],
   "execution_count": 6
  },
  {
   "cell_type": "code",
   "metadata": {
    "ExecuteTime": {
     "end_time": "2024-11-16T18:21:29.501996Z",
     "start_time": "2024-11-16T18:21:29.499950Z"
    }
   },
   "source": "# 1) La fonction *eigh* de *numpy.linalg* permet de calculer les valeurs propres et vecteurs propres d'une matrice carrée.",
   "outputs": [],
   "execution_count": 7
  },
  {
   "cell_type": "markdown",
   "metadata": {},
   "source": [
    "## 2-2) Calculez le tableau *Cp* (pour $C^\\prime$) des composantes principales."
   ]
  },
  {
   "cell_type": "code",
   "metadata": {
    "ExecuteTime": {
     "end_time": "2024-11-16T18:21:37.806277Z",
     "start_time": "2024-11-16T18:21:37.803827Z"
    }
   },
   "source": "Cp = np.dot(Xs, vectp)",
   "outputs": [],
   "execution_count": 8
  },
  {
   "cell_type": "markdown",
   "metadata": {},
   "source": [
    "## Retrouvez-vous exactement les valeurs calculées en TD ?"
   ]
  },
  {
   "cell_type": "markdown",
   "metadata": {
    "tags": []
   },
   "source": []
  },
  {
   "cell_type": "markdown",
   "metadata": {},
   "source": [
    "## 2-3) Ecrivez une fonction *acpcanonique* ayant un seul argument d'entrée (lequel ?) et pour seuls arguments de sortie (lesquels ?) ceux nécessaires à l'analyse ultérieure (individus, variables) proprement dite. Vous la testerez sur les données $X$."
   ]
  },
  {
   "cell_type": "code",
   "metadata": {
    "ExecuteTime": {
     "end_time": "2024-11-16T18:22:57.586651Z",
     "start_time": "2024-11-16T18:22:57.583938Z"
    }
   },
   "source": [
    "from numpy.linalg import eigh as eigen\n",
    "def acpcanonique(data):\n",
    "    Xs, V = standardize(data,scale=True)\n",
    "    [valp,vectp] = eigen(V)\n",
    "    valp = np.sort(valp)[::-1]\n",
    "    vectp = vectp[:, valp.argsort()]\n",
    "    \n",
    "    components = np.dot(Xs, vectp)\n",
    "\n",
    "    return valp, vectp, components"
   ],
   "outputs": [],
   "execution_count": 10
  },
  {
   "metadata": {},
   "cell_type": "code",
   "outputs": [],
   "execution_count": null,
   "source": [
    "valp, vectp, components = acpcanonique(X)\n",
    "\n"
   ]
  },
  {
   "cell_type": "markdown",
   "metadata": {},
   "source": [
    "***\n",
    "# 3) Analyse (individus, variables) des Composantes Principales\n",
    "***"
   ]
  },
  {
   "cell_type": "markdown",
   "metadata": {},
   "source": [
    "## 3-1) Calculez la qualité de représentation des variables par les composantes principales."
   ]
  },
  {
   "cell_type": "code",
   "metadata": {
    "ExecuteTime": {
     "end_time": "2024-11-16T18:23:12.011684Z",
     "start_time": "2024-11-16T18:23:12.008920Z"
    }
   },
   "source": [
    "def acpqual(data,components):\n",
    "    cosvar = np.corrcoef(data.T, components.T)[p:, :p]\n",
    "    return cosvar"
   ],
   "outputs": [],
   "execution_count": 12
  },
  {
   "cell_type": "markdown",
   "metadata": {},
   "source": [
    "## 3-2) Calculez la qualité de représentation des individus sur les composantes principales."
   ]
  },
  {
   "cell_type": "code",
   "metadata": {
    "ExecuteTime": {
     "end_time": "2024-11-16T18:23:17.393623Z",
     "start_time": "2024-11-16T18:23:17.391602Z"
    }
   },
   "source": [
    "def acpqual(data,components):\n",
    "    cosind = np.corrcoef(data, components)[p:, :p]\n",
    "    return cosind"
   ],
   "outputs": [],
   "execution_count": 13
  },
  {
   "cell_type": "markdown",
   "metadata": {},
   "source": [
    "## 3-3) Ecrivez une fonction *acpqual* retournant les éléments d'analyse (individus, variables) ci-dessus. Vous la testerez sur les données $X$. "
   ]
  },
  {
   "cell_type": "code",
   "metadata": {
    "ExecuteTime": {
     "end_time": "2024-11-16T18:23:39.149613Z",
     "start_time": "2024-11-16T18:23:39.147425Z"
    }
   },
   "source": [
    "def acpqual(data,components):\n",
    "    cosind = np.corrcoef(data, components)[p:, :p]\n",
    "    cosvar = np.corrcoef(data.T, components.T)[p:, :p]\n",
    "    return cosind, cosvar"
   ],
   "outputs": [],
   "execution_count": 14
  },
  {
   "cell_type": "code",
   "metadata": {
    "ExecuteTime": {
     "end_time": "2024-11-16T18:23:42.337263Z",
     "start_time": "2024-11-16T18:23:42.335033Z"
    }
   },
   "source": "cosind, cosvar = acpqual(X, components)",
   "outputs": [],
   "execution_count": 15
  },
  {
   "cell_type": "markdown",
   "metadata": {},
   "source": [
    "***\n",
    "# 4) ACP de notes d'élèves de terminale (Exemple de CM)\n",
    "***"
   ]
  },
  {
   "cell_type": "markdown",
   "metadata": {},
   "source": [
    "## Lecture des données."
   ]
  },
  {
   "cell_type": "code",
   "metadata": {
    "ExecuteTime": {
     "end_time": "2024-11-16T18:24:04.128344Z",
     "start_time": "2024-11-16T18:24:04.116794Z"
    }
   },
   "source": [
    "notes = pd.read_excel(\"terminale.xls\",index_col=0)\n",
    "row_label = notes.index.values \n",
    "col_label = notes.columns.values\n",
    "notes"
   ],
   "outputs": [
    {
     "data": {
      "text/plain": [
       "          math.  info.  fran.  angl.  arts\n",
       "Prénom                                    \n",
       "Thomas      6.0    6.0    5.0    5.5     8\n",
       "Margaux     8.0    8.0    8.0    8.0     9\n",
       "Florian     6.0    7.0   11.0   10.0    11\n",
       "Lucie      15.0   14.0   16.0   15.0     8\n",
       "Victor     14.0   14.0   12.0   12.5    10\n",
       "Elena      11.0   10.0    5.5    7.0    13\n",
       "Hugo        5.5    7.0   14.0   11.5    10\n",
       "Nabil      13.0   12.5    8.5    9.5    12\n",
       "Juliette    9.0    9.5   12.5   12.0    18"
      ],
      "text/html": [
       "<div>\n",
       "<style scoped>\n",
       "    .dataframe tbody tr th:only-of-type {\n",
       "        vertical-align: middle;\n",
       "    }\n",
       "\n",
       "    .dataframe tbody tr th {\n",
       "        vertical-align: top;\n",
       "    }\n",
       "\n",
       "    .dataframe thead th {\n",
       "        text-align: right;\n",
       "    }\n",
       "</style>\n",
       "<table border=\"1\" class=\"dataframe\">\n",
       "  <thead>\n",
       "    <tr style=\"text-align: right;\">\n",
       "      <th></th>\n",
       "      <th>math.</th>\n",
       "      <th>info.</th>\n",
       "      <th>fran.</th>\n",
       "      <th>angl.</th>\n",
       "      <th>arts</th>\n",
       "    </tr>\n",
       "    <tr>\n",
       "      <th>Prénom</th>\n",
       "      <th></th>\n",
       "      <th></th>\n",
       "      <th></th>\n",
       "      <th></th>\n",
       "      <th></th>\n",
       "    </tr>\n",
       "  </thead>\n",
       "  <tbody>\n",
       "    <tr>\n",
       "      <th>Thomas</th>\n",
       "      <td>6.0</td>\n",
       "      <td>6.0</td>\n",
       "      <td>5.0</td>\n",
       "      <td>5.5</td>\n",
       "      <td>8</td>\n",
       "    </tr>\n",
       "    <tr>\n",
       "      <th>Margaux</th>\n",
       "      <td>8.0</td>\n",
       "      <td>8.0</td>\n",
       "      <td>8.0</td>\n",
       "      <td>8.0</td>\n",
       "      <td>9</td>\n",
       "    </tr>\n",
       "    <tr>\n",
       "      <th>Florian</th>\n",
       "      <td>6.0</td>\n",
       "      <td>7.0</td>\n",
       "      <td>11.0</td>\n",
       "      <td>10.0</td>\n",
       "      <td>11</td>\n",
       "    </tr>\n",
       "    <tr>\n",
       "      <th>Lucie</th>\n",
       "      <td>15.0</td>\n",
       "      <td>14.0</td>\n",
       "      <td>16.0</td>\n",
       "      <td>15.0</td>\n",
       "      <td>8</td>\n",
       "    </tr>\n",
       "    <tr>\n",
       "      <th>Victor</th>\n",
       "      <td>14.0</td>\n",
       "      <td>14.0</td>\n",
       "      <td>12.0</td>\n",
       "      <td>12.5</td>\n",
       "      <td>10</td>\n",
       "    </tr>\n",
       "    <tr>\n",
       "      <th>Elena</th>\n",
       "      <td>11.0</td>\n",
       "      <td>10.0</td>\n",
       "      <td>5.5</td>\n",
       "      <td>7.0</td>\n",
       "      <td>13</td>\n",
       "    </tr>\n",
       "    <tr>\n",
       "      <th>Hugo</th>\n",
       "      <td>5.5</td>\n",
       "      <td>7.0</td>\n",
       "      <td>14.0</td>\n",
       "      <td>11.5</td>\n",
       "      <td>10</td>\n",
       "    </tr>\n",
       "    <tr>\n",
       "      <th>Nabil</th>\n",
       "      <td>13.0</td>\n",
       "      <td>12.5</td>\n",
       "      <td>8.5</td>\n",
       "      <td>9.5</td>\n",
       "      <td>12</td>\n",
       "    </tr>\n",
       "    <tr>\n",
       "      <th>Juliette</th>\n",
       "      <td>9.0</td>\n",
       "      <td>9.5</td>\n",
       "      <td>12.5</td>\n",
       "      <td>12.0</td>\n",
       "      <td>18</td>\n",
       "    </tr>\n",
       "  </tbody>\n",
       "</table>\n",
       "</div>"
      ]
     },
     "execution_count": 16,
     "metadata": {},
     "output_type": "execute_result"
    }
   ],
   "execution_count": 16
  },
  {
   "cell_type": "code",
   "metadata": {
    "ExecuteTime": {
     "end_time": "2024-11-16T18:24:06.470574Z",
     "start_time": "2024-11-16T18:24:06.467727Z"
    }
   },
   "source": [
    "X = notes[col_label].values\n",
    "n, p = np.shape(X)\n",
    "I = np.eye(p)\n",
    "D = np.eye(n)/n"
   ],
   "outputs": [],
   "execution_count": 17
  },
  {
   "cell_type": "markdown",
   "metadata": {},
   "source": [
    "## 4-1) Faut-il réaliser une ACP normée ?"
   ]
  },
  {
   "cell_type": "markdown",
   "metadata": {},
   "source": []
  },
  {
   "cell_type": "markdown",
   "metadata": {},
   "source": [
    "## 4-2) Utilisez votre fonction *acpcanonique* de sorte d'obtenir les éléments de la solution de l'ACP."
   ]
  },
  {
   "cell_type": "code",
   "metadata": {
    "ExecuteTime": {
     "end_time": "2024-11-16T18:24:10.910735Z",
     "start_time": "2024-11-16T18:24:10.907206Z"
    }
   },
   "source": "valp, vectp, components = acpcanonique(X)",
   "outputs": [],
   "execution_count": 18
  },
  {
   "cell_type": "markdown",
   "metadata": {
    "tags": []
   },
   "source": [
    "## Ci-dessous une fonction permettant d'afficher le *screeplot*. Utilisez-la pour choisir le nombre *q* de composantes à retenir."
   ]
  },
  {
   "cell_type": "code",
   "metadata": {
    "ExecuteTime": {
     "end_time": "2024-11-16T18:24:15.162352Z",
     "start_time": "2024-11-16T18:24:15.158335Z"
    }
   },
   "source": [
    "def screeplot(L,fsize = 15):\n",
    "    abscisse = np.arange(1,len(L)+1)\n",
    "    ratioL = L / sum(L)\n",
    "    cumratioL = np.cumsum(L) / sum(L)\n",
    "    plt.plot(abscisse,ratioL,label='component variance') ; plt.plot(abscisse,cumratioL,label='cumulative variance')\n",
    "    plt.xlabel(\"Principal Components\",fontsize=fsize)\n",
    "    plt.xticks(fontsize=fsize)\n",
    "    plt.ylabel(\"Proportion of Variance\",fontsize=fsize)\n",
    "    plt.yticks(fontsize=fsize)\n",
    "    plt.legend(loc='center right')\n",
    "    plt.grid() "
   ],
   "outputs": [],
   "execution_count": 19
  },
  {
   "cell_type": "code",
   "metadata": {
    "ExecuteTime": {
     "end_time": "2024-11-16T18:24:17.890300Z",
     "start_time": "2024-11-16T18:24:17.762558Z"
    }
   },
   "source": "screeplot(valp)",
   "outputs": [
    {
     "data": {
      "text/plain": [
       "<Figure size 640x480 with 1 Axes>"
      ],
      "image/png": "[encoded data removed]"
     },
     "metadata": {},
     "output_type": "display_data"
    }
   ],
   "execution_count": 20
  },
  {
   "cell_type": "markdown",
   "metadata": {},
   "source": [
    "## 4.4) Utilisez votre fonction *acpqual* de sorte de pouvoir donner des éléments d'interprétation (individus ET variables) des *q* composantes retenues"
   ]
  },
  {
   "cell_type": "code",
   "metadata": {
    "ExecuteTime": {
     "end_time": "2024-11-16T18:24:22.364824Z",
     "start_time": "2024-11-16T18:24:22.361955Z"
    }
   },
   "source": "cosind, cosvar = acpqual(X, components)",
   "outputs": [],
   "execution_count": 21
  },
  {
   "cell_type": "code",
   "metadata": {
    "ExecuteTime": {
     "end_time": "2024-11-16T18:24:24.547345Z",
     "start_time": "2024-11-16T18:24:24.543644Z"
    }
   },
   "source": "cosind, cosvar",
   "outputs": [
    {
     "data": {
      "text/plain": [
       "(array([[ 0.89277368,  0.68191905, -0.31630588, -0.78073036, -0.18638502],\n",
       "        [-0.29197878,  0.065442  ,  0.90474922,  0.09575076, -0.58460308],\n",
       "        [ 0.57550864,  0.25394969, -0.72639459, -0.40498486,  0.30437839],\n",
       "        [ 0.69798244,  0.90536628,  0.80369958, -0.81786299, -0.98926544],\n",
       "        [ 0.07000553, -0.23156119, -0.88286608,  0.1441512 ,  0.62400121],\n",
       "        [ 0.14588671, -0.17459473, -0.88088277,  0.06751036,  0.59850063],\n",
       "        [ 0.07436108,  0.03661237, -0.20616243,  0.04989188,  0.01675259],\n",
       "        [ 0.22854257,  0.31782706,  0.53119971, -0.37978583, -0.42238138],\n",
       "        [ 0.07830277,  0.16053088,  0.41013886, -0.22930465, -0.25183637],\n",
       "        [-0.53919786, -0.6290039 , -0.55315579,  0.59640298,  0.69364119],\n",
       "        [ 0.31938559,  0.3363054 ,  0.09703845, -0.24732294, -0.32097087],\n",
       "        [-0.20611901, -0.15061499,  0.14147522,  0.09138449,  0.07510389],\n",
       "        [-0.36348557, -0.01626193,  0.72045612,  0.2272682 , -0.46628584]]),\n",
       " array([[-0.81766877, -0.88942126, -0.76703015, -0.90861701, -0.05765455],\n",
       "        [ 0.5603692 ,  0.43958567, -0.60476551, -0.40522219, -0.29673444],\n",
       "        [ 0.11914929,  0.11038625, -0.21247702, -0.09639421,  0.95321478],\n",
       "        [ 0.05661702, -0.05881152,  0.01028603, -0.00217867,  0.00180614],\n",
       "        [ 0.00144557,  0.00709498,  0.02590642, -0.03022435,  0.00171592]]))"
      ]
     },
     "execution_count": 22,
     "metadata": {},
     "output_type": "execute_result"
    }
   ],
   "execution_count": 22
  },
  {
   "cell_type": "markdown",
   "metadata": {},
   "source": [
    "## Ci-dessous une fonction d'affichage de cercle de corrélations (plan 1-2 par défaut). Testez-la pour plusieurs plans. "
   ]
  },
  {
   "cell_type": "code",
   "metadata": {
    "ExecuteTime": {
     "end_time": "2024-11-16T18:24:26.767323Z",
     "start_time": "2024-11-16T18:24:26.762399Z"
    }
   },
   "source": [
    "def plot_correlation_circle(cosvar,plan=[1,2],var_labels=None,arrows=False,delta = 0.02):\n",
    "    p = cosvar.shape[0]\n",
    "    x = cosvar[:,np.array(plan)[0]-1]\n",
    "    y = cosvar[:,np.array(plan)[1]-1]\n",
    "    fig, axes = plt.subplots(figsize=(6,6))\n",
    "    head = max(x.max()-x.min(),y.max()-y.min()) / 30\n",
    "    axes.set_xlim(-1,1) ; axes.set_ylim(-1,1)\n",
    "    plt.plot([-1,1],[0,0],'red') ; plt.plot([0,0],[-1,1],'red')\n",
    "    for j in range(p): \n",
    "        if var_labels is None:\n",
    "            plt.text(x[j]+delta,y[j]+delta,'X'+str(j+1),fontsize=20)\n",
    "        else:\n",
    "            plt.text(x[j]+delta,y[j]+delta,var_labels[j],fontsize=20)\n",
    "        if arrows:\n",
    "            plt.arrow(0,0,x[j],y[j], linewidth=2,color='orangered',head_width=0.075, head_length=0.075, length_includes_head=True)\n",
    "        else:\n",
    "            plt.plot(x[j],y[j], marker='o',markersize=10,color='orangered')\n",
    "    cercle = plt.Circle((0,0),1,fill=True,color='pink',alpha=0.3)\n",
    "    axes.add_artist(cercle)\n",
    "    axes.set_xlabel('PC'+str(plan[0]),fontsize=20)\n",
    "    axes.set_ylabel('PC'+str(plan[1]),fontsize=20)\n",
    "    plt.grid()"
   ],
   "outputs": [],
   "execution_count": 23
  },
  {
   "cell_type": "code",
   "metadata": {
    "ExecuteTime": {
     "end_time": "2024-11-16T18:24:30.621539Z",
     "start_time": "2024-11-16T18:24:30.508927Z"
    }
   },
   "source": "plot_correlation_circle(cosvar,var_labels=col_label)",
   "outputs": [
    {
     "data": {
      "text/plain": [
       "<Figure size 600x600 with 1 Axes>"
      ],
      "image/png": "[encoded data removed]"
     },
     "metadata": {},
     "output_type": "display_data"
    }
   ],
   "execution_count": 24
  },
  {
   "cell_type": "markdown",
   "metadata": {},
   "source": [
    "## Ci-dessous une fonction d'affichage de plan factoriel (plan 1-2 par défaut).  Testez-la pour plusieurs plans. "
   ]
  },
  {
   "cell_type": "code",
   "metadata": {
    "ExecuteTime": {
     "end_time": "2024-11-16T18:24:36.308657Z",
     "start_time": "2024-11-16T18:24:36.304011Z"
    }
   },
   "source": [
    "def plot_components_plane(components,plan=[1,2],ind_labels=None,arrows=False,delta = 0.02):\n",
    "    n, p = components.shape\n",
    "    x = components[:,np.array(plan)[0]-1]\n",
    "    y = components[:,np.array(plan)[1]-1]\n",
    "    fig, axes = plt.subplots(figsize=(8,8))\n",
    "    head = max(x.max()-x.min(),y.max()-y.min()) / 30\n",
    "    plt.plot([x.min()-1,x.max()+1],[0,0],'dodgerblue') ; plt.plot([0,0],[y.min()-1,y.max()+1],'dodgerblue')\n",
    "    for j in range(n): \n",
    "        if ind_labels is None:\n",
    "            plt.text(x[j]+delta,y[j]+delta,'x'+str(j+1),color='dodgerblue',fontsize=15)\n",
    "        else:\n",
    "            plt.text(x[j]+delta,y[j]+delta,ind_labels[j],color='dodgerblue',fontsize=15,zorder=10)\n",
    "        if arrows:\n",
    "            plt.arrow(0,0,x[j],y[j], linewidth=2, color='deepskyblue',head_width=head, head_length=head, length_includes_head=True,zorder=3)\n",
    "        else:\n",
    "            plt.plot(x[j],y[j], marker='o',markersize=10,color='dodgerblue')\n",
    "    axes.set_xlabel('PC'+str(plan[0]),fontsize=20)\n",
    "    axes.set_ylabel('PC'+str(plan[1]),fontsize=20)\n",
    "    axes.set_facecolor('dodgerblue')\n",
    "    axes.patch.set_alpha(0.1)\n",
    "    plt.grid()\n",
    "    plt.axis('equal')"
   ],
   "outputs": [],
   "execution_count": 25
  },
  {
   "cell_type": "code",
   "metadata": {
    "ExecuteTime": {
     "end_time": "2024-11-16T18:24:40.418511Z",
     "start_time": "2024-11-16T18:24:40.283146Z"
    }
   },
   "source": "plot_components_plane(components,ind_labels=row_label)",
   "outputs": [
    {
     "data": {
      "text/plain": [
       "<Figure size 800x800 with 1 Axes>"
      ],
      "image/png": "[encoded data removed]"
     },
     "metadata": {},
     "output_type": "display_data"
    }
   ],
   "execution_count": 26
  },
  {
   "cell_type": "markdown",
   "metadata": {},
   "source": [
    "***\n",
    "# 5) ACP de composants chimiques de vins italiens\n",
    "## Données Réelles : 13 mesures sur 178 vins de 3 viticulteurs différents provenant de la même région https://archive.ics.uci.edu/ml/datasets/wine\n",
    "***"
   ]
  },
  {
   "cell_type": "code",
   "metadata": {
    "ExecuteTime": {
     "end_time": "2024-11-16T18:24:44.863917Z",
     "start_time": "2024-11-16T18:24:44.241412Z"
    }
   },
   "source": [
    "from sklearn.datasets import load_wine\n",
    "data = load_wine()\n",
    "X = data.data\n",
    "Y = data.target\n",
    "Y_labels = data.target_names\n",
    "col_labels = data.feature_names"
   ],
   "outputs": [],
   "execution_count": 27
  },
  {
   "cell_type": "code",
   "metadata": {
    "ExecuteTime": {
     "end_time": "2024-11-16T18:24:46.230704Z",
     "start_time": "2024-11-16T18:24:46.228438Z"
    }
   },
   "source": [
    "n, p = np.shape(X)\n",
    "I = np.eye(p)\n",
    "D = np.eye(n)/n"
   ],
   "outputs": [],
   "execution_count": 28
  },
  {
   "cell_type": "markdown",
   "metadata": {},
   "source": [
    "## Réalisez l'ACP de ces données. N'ayant pas de compétences en chimie des vins, contentez-vous d'analyser graphiquement le 1er plan factoriel (individus ET variables)."
   ]
  },
  {
   "cell_type": "code",
   "metadata": {
    "ExecuteTime": {
     "end_time": "2024-11-16T18:24:48.707447Z",
     "start_time": "2024-11-16T18:24:48.701755Z"
    }
   },
   "source": "valp, vectp, components = acpcanonique(X)",
   "outputs": [],
   "execution_count": 29
  },
  {
   "cell_type": "code",
   "metadata": {
    "ExecuteTime": {
     "end_time": "2024-11-16T18:24:56.310079Z",
     "start_time": "2024-11-16T18:24:56.304858Z"
    }
   },
   "source": "cosind, cosvar = acpqual(X, components)",
   "outputs": [],
   "execution_count": 31
  }
 ],
 "metadata": {
  "kernelspec": {
   "display_name": "Python 3 (ipykernel)",
   "language": "python",
   "name": "python3"
  },
  "language_info": {
   "codemirror_mode": {
    "name": "ipython",
    "version": 3
   },
   "file_extension": ".py",
   "mimetype": "text/x-python",
   "name": "python",
   "nbconvert_exporter": "python",
   "pygments_lexer": "ipython3",
   "version": "3.10.9"
  }
 },
 "nbformat": 4,
 "nbformat_minor": 4
}
