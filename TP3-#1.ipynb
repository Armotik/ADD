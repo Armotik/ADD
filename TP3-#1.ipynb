{
 "cells": [
  {
   "cell_type": "markdown",
   "metadata": {
    "tags": []
   },
   "source": [
    "***\n",
    "<center><font color=\"dodgerblue\"><font size=\"7\"><b><i>Analyse de Données Développeur<br />(C5-160512-INFO)</i></b></font></font></center>\n",
    "\n",
    "***"
   ]
  },
  {
   "cell_type": "markdown",
   "metadata": {
    "tags": []
   },
   "source": [
    "<center><font color=\"darkorange\"><font size=\"8\"><b><i>4) Apprentissage Non Supervisé (TP #1) <br/><font size=\"6\">&copy C. Frélicot, Automne 2023</font></i></b></font></font></center>\n",
    "\n",
    "***"
   ]
  },
  {
   "cell_type": "code",
   "metadata": {
    "ExecuteTime": {
     "end_time": "2024-11-16T18:38:30.287746Z",
     "start_time": "2024-11-16T18:38:29.737135Z"
    }
   },
   "source": [
    "import numpy as np\n",
    "import pandas as pd\n",
    "import matplotlib.pyplot as plt\n",
    "from numpy.matlib import repmat\n",
    "import warnings\n",
    "\n",
    "from scipy.cluster.hierarchy import centroid\n",
    "from sympy.physics.mechanics.functions import inertia\n",
    "\n",
    "warnings.filterwarnings('ignore')"
   ],
   "outputs": [],
   "execution_count": 1
  },
  {
   "cell_type": "markdown",
   "metadata": {
    "tags": []
   },
   "source": [
    "***\n",
    "# 1)  Tableau de données (du TD)\n",
    "***\n",
    "## Lecture de fichier formatté à l'aide de *Pandas*."
   ]
  },
  {
   "cell_type": "code",
   "metadata": {
    "ExecuteTime": {
     "end_time": "2024-11-16T18:38:30.320464Z",
     "start_time": "2024-11-16T18:38:30.305797Z"
    }
   },
   "source": [
    "df = pd.read_excel(\"MLlogiciel.xls\",sheet_name='Feuille1',index_col=0)\n",
    "row_label = df.index.values \n",
    "col_label = df.columns.values\n",
    "logiciel = df['ML'].values\n",
    "X = df.select_dtypes(include='number').values\n",
    "n, p = np.shape(X)\n",
    "df"
   ],
   "outputs": [
    {
     "data": {
      "text/plain": [
       "    S   A  A+      ML\n",
       "x   3  13  17   Green\n",
       "y  12   6  11  Yellow\n",
       "z  10  14  20   Green\n",
       "t   1  14   2    Blue\n",
       "u   7  15   9    Blue"
      ],
      "text/html": [
       "<div>\n",
       "<style scoped>\n",
       "    .dataframe tbody tr th:only-of-type {\n",
       "        vertical-align: middle;\n",
       "    }\n",
       "\n",
       "    .dataframe tbody tr th {\n",
       "        vertical-align: top;\n",
       "    }\n",
       "\n",
       "    .dataframe thead th {\n",
       "        text-align: right;\n",
       "    }\n",
       "</style>\n",
       "<table border=\"1\" class=\"dataframe\">\n",
       "  <thead>\n",
       "    <tr style=\"text-align: right;\">\n",
       "      <th></th>\n",
       "      <th>S</th>\n",
       "      <th>A</th>\n",
       "      <th>A+</th>\n",
       "      <th>ML</th>\n",
       "    </tr>\n",
       "  </thead>\n",
       "  <tbody>\n",
       "    <tr>\n",
       "      <th>x</th>\n",
       "      <td>3</td>\n",
       "      <td>13</td>\n",
       "      <td>17</td>\n",
       "      <td>Green</td>\n",
       "    </tr>\n",
       "    <tr>\n",
       "      <th>y</th>\n",
       "      <td>12</td>\n",
       "      <td>6</td>\n",
       "      <td>11</td>\n",
       "      <td>Yellow</td>\n",
       "    </tr>\n",
       "    <tr>\n",
       "      <th>z</th>\n",
       "      <td>10</td>\n",
       "      <td>14</td>\n",
       "      <td>20</td>\n",
       "      <td>Green</td>\n",
       "    </tr>\n",
       "    <tr>\n",
       "      <th>t</th>\n",
       "      <td>1</td>\n",
       "      <td>14</td>\n",
       "      <td>2</td>\n",
       "      <td>Blue</td>\n",
       "    </tr>\n",
       "    <tr>\n",
       "      <th>u</th>\n",
       "      <td>7</td>\n",
       "      <td>15</td>\n",
       "      <td>9</td>\n",
       "      <td>Blue</td>\n",
       "    </tr>\n",
       "  </tbody>\n",
       "</table>\n",
       "</div>"
      ]
     },
     "execution_count": 2,
     "metadata": {},
     "output_type": "execute_result"
    }
   ],
   "execution_count": 2
  },
  {
   "cell_type": "markdown",
   "metadata": {
    "tags": []
   },
   "source": [
    "## Variables et quelques points utilisés en TD."
   ]
  },
  {
   "cell_type": "code",
   "metadata": {
    "ExecuteTime": {
     "end_time": "2024-11-16T18:38:39.655594Z",
     "start_time": "2024-11-16T18:38:39.652780Z"
    }
   },
   "source": [
    "x = df.loc['x'].values[:p]\n",
    "y = df.loc['y'].values[:p]\n",
    "S = df['S'].values\n",
    "A = df['A'].values\n",
    "Aplus = df['A+'].values"
   ],
   "outputs": [],
   "execution_count": 3
  },
  {
   "cell_type": "markdown",
   "metadata": {},
   "source": [
    "***\n",
    "# 2) Calcul de Distances\n",
    "***"
   ]
  },
  {
   "cell_type": "markdown",
   "metadata": {},
   "source": [
    "## 2-1) Ecrivez une fonction *dist* permetant de calculer la distance de Manhattan (ou Cityblock), euclidienne (*euclidean*, distance par défaut), de Chebychev (ou Chebyshev), et Cosinus, entre deux points $x$ et $y$. "
   ]
  },
  {
   "cell_type": "code",
   "metadata": {
    "ExecuteTime": {
     "end_time": "2024-11-16T18:46:10.974480Z",
     "start_time": "2024-11-16T18:46:10.970828Z"
    }
   },
   "source": [
    "def dist(x,y,dname='euclidean'):\n",
    "    if dname == 'manhattan':\n",
    "        d = np.sum(np.abs(x-y))\n",
    "    elif dname == 'euclidean':\n",
    "        d = np.sqrt(np.sum((x-y)**2))\n",
    "    elif dname == 'chebyshev':\n",
    "        d = np.max(np.abs(x-y))\n",
    "    elif dname == 'cosine':\n",
    "        d = 1 - np.dot(x,y)/(np.linalg.norm(x)*np.linalg.norm(y))\n",
    "    elif dname == 'correlation':\n",
    "        d = 1 - np.dot(x-np.mean(x),y-np.mean(y))/(np.linalg.norm(x-np.mean(x))*np.linalg.norm(y-np.mean(y)))\n",
    "    \n",
    "    return d"
   ],
   "outputs": [],
   "execution_count": 8
  },
  {
   "cell_type": "markdown",
   "metadata": {},
   "source": [
    "## Testez-la de sorte de retrouver des résultats de TD : \n",
    "## - toutes distances entre $x$ et $y$\n",
    "## - distances *cosinus* entre toutes les variables"
   ]
  },
  {
   "cell_type": "code",
   "metadata": {
    "ExecuteTime": {
     "end_time": "2024-11-16T18:26:20.665781Z",
     "start_time": "2024-11-16T18:26:20.663329Z"
    }
   },
   "source": "print(dist(x,y,'manhattan'),dist(x,y,'euclidean'),dist(x,y,'chebyshev'),dist(x,y,'cosine'))",
   "outputs": [
    {
     "name": "stdout",
     "output_type": "stream",
     "text": [
      "22 12.884098726725126 9 0.1971677544087882\n"
     ]
    }
   ],
   "execution_count": 5
  },
  {
   "cell_type": "code",
   "metadata": {
    "ExecuteTime": {
     "end_time": "2024-11-16T18:26:24.687242Z",
     "start_time": "2024-11-16T18:26:24.684343Z"
    }
   },
   "source": "dist(A,Aplus,'cosine')",
   "outputs": [
    {
     "data": {
      "text/plain": [
       "0.1489101059217074"
      ]
     },
     "execution_count": 6,
     "metadata": {},
     "output_type": "execute_result"
    }
   ],
   "execution_count": 6
  },
  {
   "cell_type": "markdown",
   "metadata": {},
   "source": [
    "## 2-2) Pouvez-vous calculer $d_{correl}(A,A+)$ avec votre fonction ?"
   ]
  },
  {
   "cell_type": "code",
   "metadata": {
    "ExecuteTime": {
     "end_time": "2024-11-16T18:26:53.547925Z",
     "start_time": "2024-11-16T18:26:53.545065Z"
    }
   },
   "source": "dist(A,Aplus,'correlation')\n",
   "outputs": [
    {
     "data": {
      "text/plain": [
       "1.0155580791462095"
      ]
     },
     "execution_count": 9,
     "metadata": {},
     "output_type": "execute_result"
    }
   ],
   "execution_count": 9
  },
  {
   "cell_type": "markdown",
   "metadata": {},
   "source": [
    "## Il existe bien sûr des fonctions python pour le calcul de distances. Comprenez leur usage. "
   ]
  },
  {
   "cell_type": "code",
   "metadata": {
    "ExecuteTime": {
     "end_time": "2024-11-16T18:27:01.326912Z",
     "start_time": "2024-11-16T18:27:01.269750Z"
    }
   },
   "source": [
    "from scipy.spatial.distance import pdist, squareform\n",
    "D2 = pdist(X,'euclidean')**2\n",
    "print(D2)\n",
    "print(squareform(D2))\n",
    "squareform(squareform(D2))"
   ],
   "outputs": [
    {
     "name": "stdout",
     "output_type": "stream",
     "text": [
      "[166.  59. 230.  84. 149. 266. 110. 405. 131.  86.]\n",
      "[[  0. 166.  59. 230.  84.]\n",
      " [166.   0. 149. 266. 110.]\n",
      " [ 59. 149.   0. 405. 131.]\n",
      " [230. 266. 405.   0.  86.]\n",
      " [ 84. 110. 131.  86.   0.]]\n"
     ]
    },
    {
     "data": {
      "text/plain": [
       "array([166.,  59., 230.,  84., 149., 266., 110., 405., 131.,  86.])"
      ]
     },
     "execution_count": 10,
     "metadata": {},
     "output_type": "execute_result"
    }
   ],
   "execution_count": 10
  },
  {
   "cell_type": "markdown",
   "metadata": {},
   "source": [
    "## Calculez les distances *cosinus* entre toutes les variables avec la fonction adéquate, puis les distances *corrélation* de sorte de retrouver les résulats obtenus avec votre fonction."
   ]
  },
  {
   "cell_type": "code",
   "metadata": {
    "ExecuteTime": {
     "end_time": "2024-11-16T18:27:19.367435Z",
     "start_time": "2024-11-16T18:27:19.364850Z"
    }
   },
   "source": [
    "Dcos = pdist(X,'cosine')\n",
    "Dcor = pdist(X,'correlation')\n",
    "\n",
    "print(Dcos)\n",
    "print(Dcor)"
   ],
   "outputs": [
    {
     "name": "stdout",
     "output_type": "stream",
     "text": [
      "[0.19716775 0.03177561 0.28519489 0.09373804 0.07364385 0.52026574\n",
      " 0.16484858 0.34229301 0.07457967 0.12025733]\n",
      "[1.38825818 0.06323409 0.69328917 0.53367863 1.04120428 1.99621742\n",
      " 1.99627096 1.04577342 0.87274305 0.01499483]\n"
     ]
    }
   ],
   "execution_count": 13
  },
  {
   "cell_type": "markdown",
   "metadata": {},
   "source": [
    "***\n",
    "# 3) Algorithme K-Means \n",
    "***"
   ]
  },
  {
   "cell_type": "markdown",
   "metadata": {},
   "source": [
    "## 3-1) Ecrivez une fonction *prototyping(data,indicator)* de calcul des *barycentres* des clusters d'un tableau de données *data* décrit par une indicatrice de partition. \n",
    "## Vous la testerez sur les données du tableau $X$  pour l'indicatrice $Y^{(3)}=(3,2,3,1,1)$ afin de retrouver les résultats du TD."
   ]
  },
  {
   "cell_type": "code",
   "metadata": {
    "ExecuteTime": {
     "end_time": "2024-11-16T18:41:52.725272Z",
     "start_time": "2024-11-16T18:41:52.723035Z"
    }
   },
   "source": [
    "def prototyping(data,indicator):\n",
    "        \n",
    "    unique = np.unique(indicator)\n",
    "    barycentres = {}\n",
    "    \n",
    "    for cluster in unique:\n",
    "        cluster_points = data[np.array(indicator) == cluster]\n",
    "        barycentres[cluster] = np.mean(cluster_points,axis=0)\n",
    "        \n",
    "    return barycentres"
   ],
   "outputs": [],
   "execution_count": 4
  },
  {
   "cell_type": "code",
   "metadata": {
    "ExecuteTime": {
     "end_time": "2024-11-16T18:41:54.258718Z",
     "start_time": "2024-11-16T18:41:54.254641Z"
    }
   },
   "source": [
    "Y3 = [3,2,3,1,1]\n",
    "prototyping(X,Y3)"
   ],
   "outputs": [
    {
     "data": {
      "text/plain": [
       "{1: array([ 4. , 14.5,  5.5]),\n",
       " 2: array([12.,  6., 11.]),\n",
       " 3: array([ 6.5, 13.5, 18.5])}"
      ]
     },
     "execution_count": 5,
     "metadata": {},
     "output_type": "execute_result"
    }
   ],
   "execution_count": 5
  },
  {
   "cell_type": "markdown",
   "metadata": {},
   "source": [
    "## 3-2) Ecrivez une fonction *clustering(data,centroids,dname)* d'*affectation* des données d'un tableau *data* à des *clusters* au sens de la distance *dname* (euclidienne par défaut) au plus proche *centroid*.\n",
    "## Vous la testerez sur les données du tableau $X$ et les *centroids* obtenus à la question précédente afin de retrouver les résultats du TD."
   ]
  },
  {
   "cell_type": "code",
   "metadata": {
    "ExecuteTime": {
     "end_time": "2024-11-16T18:45:44.039987Z",
     "start_time": "2024-11-16T18:45:44.036323Z"
    }
   },
   "source": [
    "def clustering(data,centroids,dname='euclidean'):\n",
    "\n",
    "    clusters = []\n",
    "    distances_to_centroids = []\n",
    "    \n",
    "    for point in data:\n",
    "        distances = {cluster:dist(point,centroid,dname) for cluster,centroid in centroids.items()}\n",
    "        closest = min(distances,key=distances.get)\n",
    "        clusters.append(closest)\n",
    "        distances_to_centroids.append(distances[closest])\n",
    "        \n",
    "    return clusters, distances_to_centroids"
   ],
   "outputs": [],
   "execution_count": 6
  },
  {
   "cell_type": "code",
   "metadata": {
    "ExecuteTime": {
     "end_time": "2024-11-16T18:46:20.316496Z",
     "start_time": "2024-11-16T18:46:20.311817Z"
    }
   },
   "source": "clustering(X,prototyping(X,Y3))",
   "outputs": [
    {
     "data": {
      "text/plain": [
       "([3, 2, 3, 1, 1],\n",
       " [3.840572873934304,\n",
       "  0.0,\n",
       "  3.840572873934304,\n",
       "  4.636809247747852,\n",
       "  4.636809247747852])"
      ]
     },
     "execution_count": 9,
     "metadata": {},
     "output_type": "execute_result"
    }
   ],
   "execution_count": 9
  },
  {
   "cell_type": "markdown",
   "metadata": {},
   "source": [
    "## Que représente l'enchaînement des deux fonctions en termes d'algorithme d'apprentissage non supervisé ? "
   ]
  },
  {
   "cell_type": "markdown",
   "metadata": {},
   "source": []
  },
  {
   "cell_type": "markdown",
   "metadata": {},
   "source": [
    "## 3-3) Exécutez séparément plusieurs fois les cellules suivantes afin de comprendre à quoi le code pourrait vous servir."
   ]
  },
  {
   "cell_type": "code",
   "metadata": {
    "ExecuteTime": {
     "end_time": "2024-11-16T18:46:25.200773Z",
     "start_time": "2024-11-16T18:46:25.197971Z"
    }
   },
   "source": [
    "np.random.permutation(n)"
   ],
   "outputs": [
    {
     "data": {
      "text/plain": [
       "array([0, 4, 1, 2, 3])"
      ]
     },
     "execution_count": 10,
     "metadata": {},
     "output_type": "execute_result"
    }
   ],
   "execution_count": 10
  },
  {
   "cell_type": "code",
   "metadata": {
    "ExecuteTime": {
     "end_time": "2024-11-16T18:46:27.254018Z",
     "start_time": "2024-11-16T18:46:27.251264Z"
    }
   },
   "source": [
    "c = 3\n",
    "np.random.permutation(n)[:c]"
   ],
   "outputs": [
    {
     "data": {
      "text/plain": [
       "array([3, 2, 0])"
      ]
     },
     "execution_count": 11,
     "metadata": {},
     "output_type": "execute_result"
    }
   ],
   "execution_count": 11
  },
  {
   "cell_type": "markdown",
   "metadata": {},
   "source": [
    "## 3-3) Codez l'algorithme *K-means* dans une fonction *kmeans(data,c,maxiter=50,eps=0.001)* qui appellera les fonctions *clustering* et *prototyping*.  \n",
    "## L'algorithme doit s'arrêter dès que le nombre d'itérations atteint *maxiter* ou si les *centroids* ne bougent (presque) plus (eps).\n",
    "## L'initialisation sera réalisée en choisissant aléatoirement *c* points du tableau *data*. \n",
    "## Vous la testerez sur les données du tableau *X* du TD."
   ]
  },
  {
   "cell_type": "code",
   "metadata": {
    "ExecuteTime": {
     "end_time": "2024-11-16T18:51:09.994062Z",
     "start_time": "2024-11-16T18:51:09.990356Z"
    }
   },
   "source": [
    "def kmeans(data,clust_nb,maxiter=10,eps=0.01,dname='euclidean'):\n",
    "\n",
    "    np.random.seed(42)\n",
    "    centroids = { i + 1 : data[idx] for i, idx in enumerate(np.random.choice(data.shape[0], clust_nb, replace = False))}\n",
    "    \n",
    "    for t in range(maxiter):\n",
    "        \n",
    "        indicator, _ = clustering(data,centroids,dname)\n",
    "        new_centroids = prototyping(data,indicator)\n",
    "        \n",
    "        max_shift = max(np.linalg.norm(new_centroids[c] - centroids[c]) for c in centroids)\n",
    "        centroids = new_centroids\n",
    "        \n",
    "        if max_shift < eps:\n",
    "            break\n",
    "\n",
    "    return indicator, centroids"
   ],
   "outputs": [],
   "execution_count": 12
  },
  {
   "cell_type": "code",
   "metadata": {
    "ExecuteTime": {
     "end_time": "2024-11-16T18:53:39.987985Z",
     "start_time": "2024-11-16T18:53:39.982349Z"
    }
   },
   "source": [
    "Y, C = kmeans(X,3,100,0.001)\n",
    "\n",
    "Y"
   ],
   "outputs": [
    {
     "data": {
      "text/plain": [
       "[3, 1, 3, 2, 2]"
      ]
     },
     "execution_count": 19,
     "metadata": {},
     "output_type": "execute_result"
    }
   ],
   "execution_count": 19
  },
  {
   "cell_type": "markdown",
   "metadata": {},
   "source": [
    "## Si vous ne retrouvez pas $Y^{(3)}=(3,2,3,1,1)$, pensez vous qu'il suffirait d'augmenter *maxiter* ou diminuer *eps* ?"
   ]
  },
  {
   "cell_type": "markdown",
   "metadata": {},
   "source": []
  },
  {
   "cell_type": "markdown",
   "metadata": {
    "tags": []
   },
   "source": [
    "## 3-4) Modifiez votre fonction *kmeans* de sorte qu'elle retourne aussi l'inertie intra-clusters $\\mathcal{D}(U,C)$ (ou $\\mathcal{D}(Y,C)$ de la partition finale."
   ]
  },
  {
   "cell_type": "code",
   "metadata": {
    "ExecuteTime": {
     "end_time": "2024-11-16T18:55:13.236643Z",
     "start_time": "2024-11-16T18:55:13.233534Z"
    }
   },
   "source": [
    "def kmeans(data,clust_nb,maxiter=50,eps=0.001,dname='euclidean'):\n",
    "    \n",
    "    np.random.seed(42)\n",
    "    centroids = { i + 1 : data[idx] for i, idx in enumerate(np.random.choice(data.shape[0], clust_nb, replace = False))}\n",
    "    \n",
    "    for t in range(maxiter):\n",
    "        \n",
    "        indicator, distances = clustering(data,centroids,dname)\n",
    "        new_centroids = prototyping(data,indicator)\n",
    "        \n",
    "        max_shift = max(np.linalg.norm(new_centroids[c] - centroids[c]) for c in centroids)\n",
    "        centroids = new_centroids\n",
    "        \n",
    "        if max_shift < eps:\n",
    "            break\n",
    "            \n",
    "    inertia = sum(d ** 2 for d in distances)\n",
    "\n",
    "    return indicator, centroids, inertia"
   ],
   "outputs": [],
   "execution_count": 20
  },
  {
   "cell_type": "markdown",
   "metadata": {},
   "source": [
    "## Des exécutions peuvent retourner de bonnes partitions... d'autres moins bonnes. Donnez des exemples. "
   ]
  },
  {
   "cell_type": "code",
   "metadata": {
    "ExecuteTime": {
     "end_time": "2024-11-16T18:55:30.983731Z",
     "start_time": "2024-11-16T18:55:30.979520Z"
    }
   },
   "source": [
    "Y, C, W = kmeans(X,3,100,1e-6)\n",
    "\n",
    "W"
   ],
   "outputs": [
    {
     "data": {
      "text/plain": [
       "72.5"
      ]
     },
     "execution_count": 24,
     "metadata": {},
     "output_type": "execute_result"
    }
   ],
   "execution_count": 24
  },
  {
   "cell_type": "markdown",
   "metadata": {},
   "source": [
    "## Exécutez le code ci-dessous. Quel est son but ?"
   ]
  },
  {
   "cell_type": "code",
   "metadata": {
    "ExecuteTime": {
     "end_time": "2024-11-16T18:55:35.273896Z",
     "start_time": "2024-11-16T18:55:34.931681Z"
    }
   },
   "source": [
    "w = []\n",
    "for i in range(1000):\n",
    "    Y, C, W = kmeans(X,3,100,1e-6)\n",
    "    w.append(W)\n",
    "print(min(w),max(w))"
   ],
   "outputs": [
    {
     "name": "stdout",
     "output_type": "stream",
     "text": [
      "72.5 72.5\n"
     ]
    }
   ],
   "execution_count": 25
  },
  {
   "cell_type": "markdown",
   "metadata": {},
   "source": [
    "***\n",
    "# 4) Clustering de vins italiens décrits par des composants chimiques\n",
    "***"
   ]
  },
  {
   "cell_type": "markdown",
   "metadata": {
    "tags": []
   },
   "source": [
    "## Données Réelles : 13 mesures sur 178 vins de 3 viticulteurs différents provenant de la même région https://archive.ics.uci.edu/ml/datasets/wine"
   ]
  },
  {
   "cell_type": "code",
   "metadata": {
    "ExecuteTime": {
     "end_time": "2024-11-16T18:55:40.942417Z",
     "start_time": "2024-11-16T18:55:40.719872Z"
    }
   },
   "source": [
    "from sklearn.datasets import load_wine\n",
    "data = load_wine()\n",
    "X = data.data\n",
    "Y_true = data.target\n",
    "n, p = np.shape(X)\n",
    "I = np.eye(p)\n",
    "D = np.eye(n)/n"
   ],
   "outputs": [],
   "execution_count": 26
  },
  {
   "cell_type": "markdown",
   "metadata": {
    "tags": []
   },
   "source": [
    "## Exécutez votre fonction kmeans de sorte d'obtenir une partition en 3 clusters"
   ]
  },
  {
   "cell_type": "code",
   "metadata": {
    "ExecuteTime": {
     "end_time": "2024-11-16T18:55:44.429091Z",
     "start_time": "2024-11-16T18:55:44.401096Z"
    }
   },
   "source": "Y, C, W = kmeans(X,3,100,1e-6)",
   "outputs": [],
   "execution_count": 27
  },
  {
   "cell_type": "markdown",
   "metadata": {},
   "source": [
    "## La fonction importée ci-dessous permet de croiser les modalités de deux indicatrices (variable catégorielle). Comment l'utiliser pour valider ou non la partition obtenue ?"
   ]
  },
  {
   "cell_type": "code",
   "metadata": {
    "ExecuteTime": {
     "end_time": "2024-11-16T18:55:47.981144Z",
     "start_time": "2024-11-16T18:55:47.978860Z"
    }
   },
   "source": [
    "from scipy.stats.contingency import crosstab"
   ],
   "outputs": [],
   "execution_count": 28
  },
  {
   "cell_type": "code",
   "metadata": {
    "ExecuteTime": {
     "end_time": "2024-11-16T18:55:50.962854Z",
     "start_time": "2024-11-16T18:55:50.959094Z"
    }
   },
   "source": "crosstab(Y,Y_true)",
   "outputs": [
    {
     "data": {
      "text/plain": [
       "CrosstabResult(elements=(array([1, 2, 3]), array([0, 1, 2])), count=array([[13, 20, 29],\n",
       "       [46,  1,  0],\n",
       "       [ 0, 50, 19]]))"
      ]
     },
     "execution_count": 29,
     "metadata": {},
     "output_type": "execute_result"
    }
   ],
   "execution_count": 29
  },
  {
   "cell_type": "markdown",
   "metadata": {},
   "source": [
    "## Que pensez-vous du résultat ?"
   ]
  },
  {
   "cell_type": "markdown",
   "metadata": {
    "tags": []
   },
   "source": []
  },
  {
   "cell_type": "code",
   "execution_count": null,
   "metadata": {},
   "outputs": [],
   "source": ""
  }
 ],
 "metadata": {
  "kernelspec": {
   "display_name": "Python 3 (ipykernel)",
   "language": "python",
   "name": "python3"
  },
  "language_info": {
   "codemirror_mode": {
    "name": "ipython",
    "version": 3
   },
   "file_extension": ".py",
   "mimetype": "text/x-python",
   "name": "python",
   "nbconvert_exporter": "python",
   "pygments_lexer": "ipython3",
   "version": "3.10.9"
  }
 },
 "nbformat": 4,
 "nbformat_minor": 4
}
