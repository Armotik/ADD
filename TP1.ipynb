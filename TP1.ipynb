{
 "cells": [
  {
   "cell_type": "markdown",
   "metadata": {
    "tags": []
   },
   "source": [
    "***\n",
    "<center><font color=\"dodgerblue\"><font size=\"7\"><b><i>Analyse de Données Développeur<br />(C5-160512-INFO)</i></b></font></font></center>\n",
    "\n",
    "***"
   ]
  },
  {
   "cell_type": "markdown",
   "metadata": {
    "tags": []
   },
   "source": [
    "<center><font color=\"darkorange\"><font size=\"8\"><b><i>2) Tableaux et Espaces (TP) <br/><font size=\"6\">&copy C. Frélicot, Automne 2023</font></i></b></font></font></center>\n",
    "\n",
    "***"
   ]
  },
  {
   "cell_type": "code",
   "metadata": {
    "ExecuteTime": {
     "end_time": "2024-11-16T18:11:09.720703Z",
     "start_time": "2024-11-16T18:11:08.926783Z"
    }
   },
   "source": [
    "import numpy as np\n",
    "import pandas as pd\n",
    "import matplotlib.pyplot as plt\n",
    "import warnings\n",
    "warnings.filterwarnings('ignore')"
   ],
   "outputs": [],
   "execution_count": 1
  },
  {
   "cell_type": "markdown",
   "metadata": {
    "tags": []
   },
   "source": [
    "***\n",
    "# 1)  Tableau de données (du TD)\n",
    "***\n",
    "## Lecture de fichier formatté à l'aide de *Pandas*."
   ]
  },
  {
   "cell_type": "code",
   "metadata": {
    "ExecuteTime": {
     "end_time": "2024-11-16T18:12:32.335129Z",
     "start_time": "2024-11-16T18:12:31.759516Z"
    }
   },
   "source": [
    "df = pd.read_excel(\"TD1-data.xls\",index_col=0)\n",
    "df"
   ],
   "outputs": [
    {
     "data": {
      "text/plain": [
       "       $X_1$  $X_2$\n",
       "Id.                \n",
       "$x_1$      3     -1\n",
       "$x_2$     -1      2\n",
       "$x_3$      4      2"
      ],
      "text/html": [
       "<div>\n",
       "<style scoped>\n",
       "    .dataframe tbody tr th:only-of-type {\n",
       "        vertical-align: middle;\n",
       "    }\n",
       "\n",
       "    .dataframe tbody tr th {\n",
       "        vertical-align: top;\n",
       "    }\n",
       "\n",
       "    .dataframe thead th {\n",
       "        text-align: right;\n",
       "    }\n",
       "</style>\n",
       "<table border=\"1\" class=\"dataframe\">\n",
       "  <thead>\n",
       "    <tr style=\"text-align: right;\">\n",
       "      <th></th>\n",
       "      <th>$X_1$</th>\n",
       "      <th>$X_2$</th>\n",
       "    </tr>\n",
       "    <tr>\n",
       "      <th>Id.</th>\n",
       "      <th></th>\n",
       "      <th></th>\n",
       "    </tr>\n",
       "  </thead>\n",
       "  <tbody>\n",
       "    <tr>\n",
       "      <th>$x_1$</th>\n",
       "      <td>3</td>\n",
       "      <td>-1</td>\n",
       "    </tr>\n",
       "    <tr>\n",
       "      <th>$x_2$</th>\n",
       "      <td>-1</td>\n",
       "      <td>2</td>\n",
       "    </tr>\n",
       "    <tr>\n",
       "      <th>$x_3$</th>\n",
       "      <td>4</td>\n",
       "      <td>2</td>\n",
       "    </tr>\n",
       "  </tbody>\n",
       "</table>\n",
       "</div>"
      ]
     },
     "execution_count": 3,
     "metadata": {},
     "output_type": "execute_result"
    }
   ],
   "execution_count": 3
  },
  {
   "cell_type": "code",
   "metadata": {
    "ExecuteTime": {
     "end_time": "2024-11-16T18:12:35.298368Z",
     "start_time": "2024-11-16T18:12:35.295700Z"
    }
   },
   "source": [
    "row_label = df.index.values \n",
    "col_label = df.columns.values\n",
    "X = df[col_label].values"
   ],
   "outputs": [],
   "execution_count": 4
  },
  {
   "cell_type": "markdown",
   "metadata": {},
   "source": [
    "## Affectez les dimensions $n$ et $p$ du tableau $X$ à l'aide de la propriété/fonction numpy *shape*."
   ]
  },
  {
   "cell_type": "code",
   "metadata": {
    "ExecuteTime": {
     "end_time": "2024-11-16T18:13:33.951343Z",
     "start_time": "2024-11-16T18:13:33.949318Z"
    }
   },
   "source": "n, p = np.shape(X)",
   "outputs": [],
   "execution_count": 5
  },
  {
   "cell_type": "markdown",
   "metadata": {},
   "source": [
    "## Affichage du nuage de points-individus."
   ]
  },
  {
   "cell_type": "code",
   "metadata": {
    "ExecuteTime": {
     "end_time": "2024-11-16T18:13:37.848003Z",
     "start_time": "2024-11-16T18:13:36.626846Z"
    }
   },
   "source": [
    "plt.scatter(X[:,0], X[:,1], s=200, alpha=0.8)\n",
    "for k in range(n):\n",
    "    plt.text(X[k,0]+0.25, X[k,1]-0.1,row_label[k],fontsize=25)\n",
    "plt.xlim(-2, 5) ; plt.ylim(-2, 3)\n",
    "plt.xticks(fontsize = 18) ; plt.yticks(fontsize = 18)\n",
    "plt.grid()\n",
    "#plt.savefig('TD1-data.png',bbox_inches='tight')"
   ],
   "outputs": [
    {
     "data": {
      "text/plain": [
       "<Figure size 640x480 with 1 Axes>"
      ],
      "image/png": "[encoded data removed]"
     },
     "metadata": {},
     "output_type": "display_data"
    }
   ],
   "execution_count": 6
  },
  {
   "cell_type": "markdown",
   "metadata": {
    "tags": []
   },
   "source": [
    "***\n",
    "# 2) Espace des points-individus $(\\mathbb{R}^p)$\n",
    "***"
   ]
  },
  {
   "cell_type": "markdown",
   "metadata": {
    "tags": []
   },
   "source": [
    "## 2-1) Trouvez le moyen de centrer le tableau $X$. Vous noterez *Xp* (pour $X^\\prime$) le tableau résultat."
   ]
  },
  {
   "cell_type": "code",
   "metadata": {
    "ExecuteTime": {
     "end_time": "2024-11-16T18:16:32.307011Z",
     "start_time": "2024-11-16T18:16:32.303121Z"
    }
   },
   "source": [
    "Xp = X - np.mean(X, axis=0)\n",
    "Xp"
   ],
   "outputs": [
    {
     "data": {
      "text/plain": [
       "array([[ 1., -2.],\n",
       "       [-3.,  1.],\n",
       "       [ 2.,  1.]])"
      ]
     },
     "execution_count": 11,
     "metadata": {},
     "output_type": "execute_result"
    }
   ],
   "execution_count": 11
  },
  {
   "cell_type": "markdown",
   "metadata": {},
   "source": [
    "## 2-2) Calculez matriciellement les carrés des $I$-normes de tous les individus centrés : $||x_k^\\prime||^2_I = <x_k^\\prime,x_k^\\prime>_I, \\forall k=1,n$."
   ]
  },
  {
   "cell_type": "code",
   "metadata": {
    "ExecuteTime": {
     "end_time": "2024-11-16T18:18:18.162425Z",
     "start_time": "2024-11-16T18:18:18.153946Z"
    }
   },
   "source": [
    "I = np.eye(Xp.shape[1])\n",
    "\n",
    "normes = np.sum(Xp @ I * Xp, axis=1)\n",
    "normes"
   ],
   "outputs": [
    {
     "data": {
      "text/plain": [
       "array([ 5., 10.,  5.])"
      ]
     },
     "execution_count": 19,
     "metadata": {},
     "output_type": "execute_result"
    }
   ],
   "execution_count": 19
  },
  {
   "cell_type": "markdown",
   "metadata": {},
   "source": [
    "## Sans calcul, pouvez-vous affirmer qu'elles ont égales ou différentes de celles des individus non centrés (tableau $X$) ? "
   ]
  },
  {
   "cell_type": "code",
   "execution_count": null,
   "metadata": {},
   "outputs": [],
   "source": "# Oui, elles sont égales. Car la norme d'un vecteur est indépendante de son origine."
  },
  {
   "cell_type": "markdown",
   "metadata": {},
   "source": [
    "## Rappelez à quoi sert $I$ (ou $I_p$)."
   ]
  },
  {
   "cell_type": "code",
   "execution_count": null,
   "metadata": {},
   "outputs": [],
   "source": "# I est la matrice identité de dimension p. Elle sert à pondérer les individus. "
  },
  {
   "cell_type": "markdown",
   "metadata": {},
   "source": [
    "## 2-3) Comment déterminer quels individus centrés sont $I-\\bot$ ?"
   ]
  },
  {
   "cell_type": "code",
   "execution_count": null,
   "metadata": {},
   "outputs": [],
   "source": "# Les individus centrés sont I-orthogonaux si leur produit scalaire est nul. "
  },
  {
   "cell_type": "markdown",
   "metadata": {
    "tags": []
   },
   "source": [
    "## 2-4) Comment déterminer les angles entre les individus centrés ?"
   ]
  },
  {
   "cell_type": "code",
   "execution_count": null,
   "metadata": {},
   "outputs": [],
   "source": "# Les angles entre les individus centrés sont déterminés par le produit scalaire. "
  },
  {
   "cell_type": "markdown",
   "metadata": {
    "tags": []
   },
   "source": [
    "***\n",
    "# 3) Espace des points-variables centrées $(\\mathbb{R}^n)$\n",
    "***"
   ]
  },
  {
   "cell_type": "markdown",
   "metadata": {},
   "source": [
    "## 3-1) Créez la métrique $D$ (ou $D_n$) de l'espace des variables à partir de la matrice Identité. Rappel : $D$ pondère les individus."
   ]
  },
  {
   "cell_type": "code",
   "metadata": {
    "ExecuteTime": {
     "end_time": "2024-11-16T18:19:20.296185Z",
     "start_time": "2024-11-16T18:19:20.294330Z"
    }
   },
   "source": "D = np.eye(Xp.shape[0])",
   "outputs": [],
   "execution_count": 20
  },
  {
   "cell_type": "markdown",
   "metadata": {},
   "source": [
    "## 3-2) Calculez la $D$-norme (au carré) de la 2ème variable par produit scalaire : $||X^\\prime_2||^2_D$"
   ]
  },
  {
   "cell_type": "code",
   "metadata": {
    "ExecuteTime": {
     "end_time": "2024-11-16T18:19:21.747014Z",
     "start_time": "2024-11-16T18:19:21.744965Z"
    }
   },
   "source": "d_norme = np.sum(Xp[:,1] @ D * Xp[:,1])",
   "outputs": [],
   "execution_count": 21
  },
  {
   "cell_type": "markdown",
   "metadata": {},
   "source": [
    "## 3-3) Calculez la matrice $V$ de terme général $<X^\\prime_i,X^\\prime_j>_D (i,j=1,p)$."
   ]
  },
  {
   "cell_type": "code",
   "metadata": {
    "ExecuteTime": {
     "end_time": "2024-11-16T18:19:26.610640Z",
     "start_time": "2024-11-16T18:19:26.607561Z"
    }
   },
   "source": "V = Xp.T @ D @ Xp",
   "outputs": [],
   "execution_count": 22
  },
  {
   "cell_type": "markdown",
   "metadata": {},
   "source": [
    "## On peut vérifier ce résultat géométrique à l'aide d'une fonction *numpy* de statistique... laquelle ?"
   ]
  },
  {
   "cell_type": "code",
   "metadata": {
    "ExecuteTime": {
     "end_time": "2024-11-16T18:19:39.530667Z",
     "start_time": "2024-11-16T18:19:39.527109Z"
    }
   },
   "source": "np.cov(Xp.T)",
   "outputs": [
    {
     "data": {
      "text/plain": [
       "array([[ 7. , -1.5],\n",
       "       [-1.5,  3. ]])"
      ]
     },
     "execution_count": 23,
     "metadata": {},
     "output_type": "execute_result"
    }
   ],
   "execution_count": 23
  },
  {
   "cell_type": "markdown",
   "metadata": {},
   "source": [
    "## 3-4) Pour construire le tableau $X^{\\prime\\prime}$ des données centrées-réduites, il suffit de réduire le tableau centré $X^\\prime$. Touvez un moyen simple d'effectuer ce changement d'échelle. Vous noterez *Xs* ($s$ pour seconde) le tableau résultant. "
   ]
  },
  {
   "cell_type": "code",
   "metadata": {
    "ExecuteTime": {
     "end_time": "2024-11-16T18:19:45.754431Z",
     "start_time": "2024-11-16T18:19:45.751955Z"
    }
   },
   "source": "Xs = Xp / np.std(Xp, axis=0)",
   "outputs": [],
   "execution_count": 24
  },
  {
   "cell_type": "markdown",
   "metadata": {},
   "source": [
    "## Vérifiez que *Xs* est bien centré-réduit."
   ]
  },
  {
   "cell_type": "code",
   "metadata": {
    "ExecuteTime": {
     "end_time": "2024-11-16T18:19:51.284333Z",
     "start_time": "2024-11-16T18:19:51.281295Z"
    }
   },
   "source": "np.mean(Xs, axis=0), np.std(Xs, axis=0)",
   "outputs": [
    {
     "data": {
      "text/plain": [
       "(array([0., 0.]), array([1., 1.]))"
      ]
     },
     "execution_count": 25,
     "metadata": {},
     "output_type": "execute_result"
    }
   ],
   "execution_count": 25
  },
  {
   "cell_type": "code",
   "metadata": {
    "ExecuteTime": {
     "end_time": "2024-11-16T18:19:54.680192Z",
     "start_time": "2024-11-16T18:19:54.678033Z"
    }
   },
   "source": "# Oui, les moyennes sont nulles et les écarts-types sont égaux à 1.",
   "outputs": [],
   "execution_count": 26
  },
  {
   "cell_type": "markdown",
   "metadata": {},
   "source": [
    "## 3-5) Reprenez la question 3.3) sur le tableau $X^{\\prime\\prime}$. Qu'obtient-on ?"
   ]
  },
  {
   "cell_type": "code",
   "metadata": {
    "ExecuteTime": {
     "end_time": "2024-11-16T18:19:59.514458Z",
     "start_time": "2024-11-16T18:19:59.512528Z"
    }
   },
   "source": "V = Xs.T @ D @ Xs",
   "outputs": [],
   "execution_count": 27
  },
  {
   "cell_type": "markdown",
   "metadata": {},
   "source": [
    "## Comme précedemment, on peut vérifier ce résultat à l'aide d'une fonction... laquelle ? "
   ]
  },
  {
   "cell_type": "code",
   "metadata": {
    "ExecuteTime": {
     "end_time": "2024-11-16T18:20:04.991833Z",
     "start_time": "2024-11-16T18:20:04.988716Z"
    }
   },
   "source": "np.cov(Xs.T)",
   "outputs": [
    {
     "data": {
      "text/plain": [
       "array([[ 1.5       , -0.49099025],\n",
       "       [-0.49099025,  1.5       ]])"
      ]
     },
     "execution_count": 28,
     "metadata": {},
     "output_type": "execute_result"
    }
   ],
   "execution_count": 28
  },
  {
   "cell_type": "markdown",
   "metadata": {
    "tags": []
   },
   "source": [
    "***\n",
    "# 4) Ecriture de fonction python.\n",
    "## En reprenant des bouts de codes des questions précédentes, écrivez une fonction permettant de :\n",
    "<font size=\"5\">\n",
    "<ul>\n",
    "<li>centrer et optionnellement réduire un tableau $data$</li>\n",
    "<li>retourner les données transformées et la matrice de covariance de celles-ci\n",
    "</li>\n",
    "</ul>\n",
    "</font>"
   ]
  },
  {
   "cell_type": "markdown",
   "metadata": {
    "tags": []
   },
   "source": [
    "## Deux versions sont possibles : géométrique et statistique. Vous testerez sur le tableau *X*.\n",
    "***"
   ]
  },
  {
   "cell_type": "code",
   "metadata": {
    "ExecuteTime": {
     "end_time": "2024-11-16T18:20:19.860992Z",
     "start_time": "2024-11-16T18:20:19.858551Z"
    }
   },
   "source": [
    "def standardize(data,scale=False):\n",
    "    \n",
    "    data_p = data - np.mean(data, axis=0)\n",
    "    if scale:\n",
    "        data_s = data_p / np.std(data_p, axis=0)\n",
    "        transformed_data = data_s\n",
    "    else:\n",
    "        transformed_data = data_p\n",
    "    \n",
    "    cov_data = np.cov(transformed_data.T)\n",
    "    \n",
    "    return transformed_data, cov_data\n",
    "\n"
   ],
   "outputs": [],
   "execution_count": 29
  },
  {
   "cell_type": "code",
   "metadata": {
    "ExecuteTime": {
     "end_time": "2024-11-16T18:20:30.002831Z",
     "start_time": "2024-11-16T18:20:29.999138Z"
    }
   },
   "source": [
    "Xp, cov_Xp = standardize(X)\n",
    "\n",
    "Xs, cov_Xs = standardize(X,scale=True)\n",
    "\n",
    "cov_Xp, cov_Xs"
   ],
   "outputs": [
    {
     "data": {
      "text/plain": [
       "(array([[ 7. , -1.5],\n",
       "        [-1.5,  3. ]]),\n",
       " array([[ 1.5       , -0.49099025],\n",
       "        [-0.49099025,  1.5       ]]))"
      ]
     },
     "execution_count": 32,
     "metadata": {},
     "output_type": "execute_result"
    }
   ],
   "execution_count": 32
  }
 ],
 "metadata": {
  "kernelspec": {
   "display_name": "Python 3 (ipykernel)",
   "language": "python",
   "name": "python3"
  },
  "language_info": {
   "codemirror_mode": {
    "name": "ipython",
    "version": 3
   },
   "file_extension": ".py",
   "mimetype": "text/x-python",
   "name": "python",
   "nbconvert_exporter": "python",
   "pygments_lexer": "ipython3",
   "version": "3.10.9"
  }
 },
 "nbformat": 4,
 "nbformat_minor": 4
}
