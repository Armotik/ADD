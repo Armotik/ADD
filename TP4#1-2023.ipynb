{
 "cells": [
  {
   "cell_type": "markdown",
   "metadata": {
    "tags": []
   },
   "source": [
    "***\n",
    "<center><font color=\"dodgerblue\"><font size=\"7\"><b><i>Analyse de Données Développeur<br />(C5-160512-INFO)</i></b></font></font></center>\n",
    "\n",
    "***"
   ]
  },
  {
   "cell_type": "markdown",
   "metadata": {
    "tags": []
   },
   "source": [
    "<center><font color=\"darkorange\"><font size=\"8\"><b><i>4) Apprentissage Supervisé (TP #1) <br/><font size=\"6\">&copy C. Frélicot, Automne 2023</font></i></b></font></font></center>\n",
    "\n",
    "***"
   ]
  },
  {
   "cell_type": "code",
   "metadata": {
    "ExecuteTime": {
     "end_time": "2024-11-16T19:08:31.333198Z",
     "start_time": "2024-11-16T19:08:31.330585Z"
    }
   },
   "source": [
    "import numpy as np\n",
    "import pandas as pd\n",
    "import matplotlib.pyplot as plt\n",
    "from numpy.matlib import repmat\n",
    "import warnings\n",
    "warnings.filterwarnings('ignore')"
   ],
   "outputs": [],
   "execution_count": 1
  },
  {
   "cell_type": "markdown",
   "metadata": {
    "tags": []
   },
   "source": [
    "***\n",
    "# 0)  Tableau de données (du TD)\n",
    "***\n",
    "## Lecture de fichier formatté à l'aide de *Pandas*."
   ]
  },
  {
   "cell_type": "code",
   "metadata": {
    "ExecuteTime": {
     "end_time": "2024-11-16T19:08:48.203609Z",
     "start_time": "2024-11-16T19:08:48.192214Z"
    }
   },
   "source": [
    "import warnings\n",
    "warnings.filterwarnings('ignore')\n",
    "import numpy as np\n",
    "import pandas as pd\n",
    "learndf = pd.read_excel(\"TD4-2023.xls\",sheet_name=\"LearningSet\",index_col=0)\n",
    "X = learndf.values[:,:2]\n",
    "Ytrue = learndf.values[:,2]\n",
    "learn_label = learndf.index.values\n",
    "learndf"
   ],
   "outputs": [
    {
     "data": {
      "text/plain": [
       "      $X_1$  $X_2$      $Y$\n",
       "(1)       0      2  Class 1\n",
       "(2)       2      0  Class 1\n",
       "(3)       2      6  Class 1\n",
       "(4)       4      4  Class 1\n",
       "(5)       2      4  Class 2\n",
       "(6)       6      7  Class 2\n",
       "(7)      10      4  Class 2\n",
       "(8)       4      0  Class 3\n",
       "(9)       4      2  Class 3\n",
       "(10)      6      0  Class 3\n",
       "(11)      6      2  Class 3"
      ],
      "text/html": [
       "<div>\n",
       "<style scoped>\n",
       "    .dataframe tbody tr th:only-of-type {\n",
       "        vertical-align: middle;\n",
       "    }\n",
       "\n",
       "    .dataframe tbody tr th {\n",
       "        vertical-align: top;\n",
       "    }\n",
       "\n",
       "    .dataframe thead th {\n",
       "        text-align: right;\n",
       "    }\n",
       "</style>\n",
       "<table border=\"1\" class=\"dataframe\">\n",
       "  <thead>\n",
       "    <tr style=\"text-align: right;\">\n",
       "      <th></th>\n",
       "      <th>$X_1$</th>\n",
       "      <th>$X_2$</th>\n",
       "      <th>$Y$</th>\n",
       "    </tr>\n",
       "  </thead>\n",
       "  <tbody>\n",
       "    <tr>\n",
       "      <th>(1)</th>\n",
       "      <td>0</td>\n",
       "      <td>2</td>\n",
       "      <td>Class 1</td>\n",
       "    </tr>\n",
       "    <tr>\n",
       "      <th>(2)</th>\n",
       "      <td>2</td>\n",
       "      <td>0</td>\n",
       "      <td>Class 1</td>\n",
       "    </tr>\n",
       "    <tr>\n",
       "      <th>(3)</th>\n",
       "      <td>2</td>\n",
       "      <td>6</td>\n",
       "      <td>Class 1</td>\n",
       "    </tr>\n",
       "    <tr>\n",
       "      <th>(4)</th>\n",
       "      <td>4</td>\n",
       "      <td>4</td>\n",
       "      <td>Class 1</td>\n",
       "    </tr>\n",
       "    <tr>\n",
       "      <th>(5)</th>\n",
       "      <td>2</td>\n",
       "      <td>4</td>\n",
       "      <td>Class 2</td>\n",
       "    </tr>\n",
       "    <tr>\n",
       "      <th>(6)</th>\n",
       "      <td>6</td>\n",
       "      <td>7</td>\n",
       "      <td>Class 2</td>\n",
       "    </tr>\n",
       "    <tr>\n",
       "      <th>(7)</th>\n",
       "      <td>10</td>\n",
       "      <td>4</td>\n",
       "      <td>Class 2</td>\n",
       "    </tr>\n",
       "    <tr>\n",
       "      <th>(8)</th>\n",
       "      <td>4</td>\n",
       "      <td>0</td>\n",
       "      <td>Class 3</td>\n",
       "    </tr>\n",
       "    <tr>\n",
       "      <th>(9)</th>\n",
       "      <td>4</td>\n",
       "      <td>2</td>\n",
       "      <td>Class 3</td>\n",
       "    </tr>\n",
       "    <tr>\n",
       "      <th>(10)</th>\n",
       "      <td>6</td>\n",
       "      <td>0</td>\n",
       "      <td>Class 3</td>\n",
       "    </tr>\n",
       "    <tr>\n",
       "      <th>(11)</th>\n",
       "      <td>6</td>\n",
       "      <td>2</td>\n",
       "      <td>Class 3</td>\n",
       "    </tr>\n",
       "  </tbody>\n",
       "</table>\n",
       "</div>"
      ]
     },
     "execution_count": 3,
     "metadata": {},
     "output_type": "execute_result"
    }
   ],
   "execution_count": 3
  },
  {
   "cell_type": "code",
   "metadata": {
    "ExecuteTime": {
     "end_time": "2024-11-16T19:08:58.046753Z",
     "start_time": "2024-11-16T19:08:58.038910Z"
    }
   },
   "source": [
    "testdf = pd.read_excel(\"TD4-2023.xls\",sheet_name=\"PredictionSet\",index_col=0)\n",
    "xyz = testdf.values[:,:2]\n",
    "test_label = testdf.index.values\n",
    "testdf"
   ],
   "outputs": [
    {
     "data": {
      "text/plain": [
       "     $X_1$  $X_2$\n",
       "$x$      3      2\n",
       "$y$     10      2\n",
       "$z$      5      3"
      ],
      "text/html": [
       "<div>\n",
       "<style scoped>\n",
       "    .dataframe tbody tr th:only-of-type {\n",
       "        vertical-align: middle;\n",
       "    }\n",
       "\n",
       "    .dataframe tbody tr th {\n",
       "        vertical-align: top;\n",
       "    }\n",
       "\n",
       "    .dataframe thead th {\n",
       "        text-align: right;\n",
       "    }\n",
       "</style>\n",
       "<table border=\"1\" class=\"dataframe\">\n",
       "  <thead>\n",
       "    <tr style=\"text-align: right;\">\n",
       "      <th></th>\n",
       "      <th>$X_1$</th>\n",
       "      <th>$X_2$</th>\n",
       "    </tr>\n",
       "  </thead>\n",
       "  <tbody>\n",
       "    <tr>\n",
       "      <th>$x$</th>\n",
       "      <td>3</td>\n",
       "      <td>2</td>\n",
       "    </tr>\n",
       "    <tr>\n",
       "      <th>$y$</th>\n",
       "      <td>10</td>\n",
       "      <td>2</td>\n",
       "    </tr>\n",
       "    <tr>\n",
       "      <th>$z$</th>\n",
       "      <td>5</td>\n",
       "      <td>3</td>\n",
       "    </tr>\n",
       "  </tbody>\n",
       "</table>\n",
       "</div>"
      ]
     },
     "execution_count": 4,
     "metadata": {},
     "output_type": "execute_result"
    }
   ],
   "execution_count": 4
  },
  {
   "cell_type": "markdown",
   "metadata": {},
   "source": [
    "***\n",
    "# 1) Nearest-Prototype Rule\n",
    "***"
   ]
  },
  {
   "cell_type": "markdown",
   "metadata": {},
   "source": [
    "## $(1) \\ L : x\\mapsto u(x)=[u_j(x)]_{j=1,c}$ tel que $u_j(x) = d(x,\\overline{x}_j)$\n",
    "## $(2) \\ A : x\\mapsto y(x) = argmin_j \\ u_j$\n",
    "***"
   ]
  },
  {
   "cell_type": "markdown",
   "metadata": {},
   "source": [
    "## 1-1) Pensez-vous avoir toutes les fonctions nécessaires au codage de cette règle de classification supervisée ? Si oui, copiez-les ci-dessous. "
   ]
  },
  {
   "cell_type": "code",
   "metadata": {
    "ExecuteTime": {
     "end_time": "2024-11-16T19:14:22.384199Z",
     "start_time": "2024-11-16T19:14:22.380494Z"
    }
   },
   "source": [
    "def prototyping(data, indicator):\n",
    "    \"\"\"\n",
    "    Calcule les barycentres des clusters d'un tableau de données.\n",
    "\n",
    "    Paramètres:\n",
    "        data (numpy.ndarray): Tableau des données (n individus x p variables).\n",
    "        indicator (array-like): Indicatrice de partition (taille n).\n",
    "\n",
    "    Retourne:\n",
    "        dict: Dictionnaire des barycentres, avec les indices des clusters comme clés.\n",
    "    \"\"\"\n",
    "    indicator = np.array(indicator)  # Assure que l'indicatrice est un tableau numpy\n",
    "    unique_clusters = np.unique(indicator)\n",
    "    barycenters = {}\n",
    "\n",
    "    for cluster in unique_clusters:\n",
    "        cluster_points = data[indicator == cluster]  # Filtrage correct\n",
    "        barycenters[cluster] = np.mean(cluster_points, axis=0)\n",
    "\n",
    "    return barycenters\n",
    "\n",
    "\n",
    "def dist(x,y,dname='euclidean'):\n",
    "    if dname == 'manhattan':\n",
    "        d = np.sum(np.abs(x-y))\n",
    "    elif dname == 'euclidean':\n",
    "        d = np.sqrt(np.sum((x-y)**2))\n",
    "    elif dname == 'chebyshev':\n",
    "        d = np.max(np.abs(x-y))\n",
    "    elif dname == 'cosine':\n",
    "        d = 1 - np.dot(x,y)/(np.linalg.norm(x)*np.linalg.norm(y))\n",
    "    elif dname == 'correlation':\n",
    "        d = 1 - np.dot(x-np.mean(x),y-np.mean(y))/(np.linalg.norm(x-np.mean(x))*np.linalg.norm(y-np.mean(y)))\n",
    "    \n",
    "    return d"
   ],
   "outputs": [],
   "execution_count": 17
  },
  {
   "cell_type": "markdown",
   "metadata": {},
   "source": [
    "## 1-2) Ecrivez une fonction *NPClassifier* permettant de prédire, pour tous les points d'un tableau *X_pred*, leur prédiction *y_pred* avec la règle du Plus Proche Prototype sur un ensemble d'apprentissage (*X_learn*, *y_learn*) au sens d'une distance *dname* (euclidienne par défaut)."
   ]
  },
  {
   "cell_type": "markdown",
   "metadata": {},
   "source": [
    "## Vous la testerez sur les données de TD de sorte de trouver les résultats, y compris les (HW)."
   ]
  },
  {
   "cell_type": "code",
   "metadata": {
    "ExecuteTime": {
     "end_time": "2024-11-16T19:13:29.504609Z",
     "start_time": "2024-11-16T19:13:29.502690Z"
    }
   },
   "source": [
    "X_learn = X\n",
    "y_learn = Ytrue\n",
    "X_pred = xyz"
   ],
   "outputs": [],
   "execution_count": 13
  },
  {
   "cell_type": "code",
   "metadata": {
    "ExecuteTime": {
     "end_time": "2024-11-16T19:14:25.465150Z",
     "start_time": "2024-11-16T19:14:25.462381Z"
    }
   },
   "source": [
    "def NPClassifier(X_learn, y_learn, X_pred, dname='euclidean'):\n",
    "    \"\"\"\n",
    "    Prédit les étiquettes pour X_pred en utilisant la règle du Plus Proche Prototype.\n",
    "\n",
    "    Paramètres:\n",
    "        X_learn (numpy.ndarray): Données d'apprentissage (n x p).\n",
    "        y_learn (array-like): Étiquettes d'apprentissage (taille n).\n",
    "        X_pred (numpy.ndarray): Données à prédire (m x p).\n",
    "        dname (str): Nom de la distance ('euclidean' par défaut).\n",
    "\n",
    "    Retourne:\n",
    "        list: Étiquettes prédites pour X_pred.\n",
    "    \"\"\"\n",
    "    # Calcul des prototypes (barycentres) pour chaque classe\n",
    "    prototypes = prototyping(X_learn, y_learn)\n",
    "\n",
    "    # Prédiction pour chaque point de X_pred\n",
    "    y_pred = []\n",
    "    for x in X_pred:\n",
    "        distances = {label: dist(x, prototype) for label, prototype in prototypes.items()}\n",
    "        closest_label = min(distances, key=distances.get)\n",
    "        y_pred.append(closest_label)\n",
    "\n",
    "    return y_pred"
   ],
   "outputs": [],
   "execution_count": 18
  },
  {
   "cell_type": "code",
   "metadata": {
    "ExecuteTime": {
     "end_time": "2024-11-16T19:14:28.467242Z",
     "start_time": "2024-11-16T19:14:28.447657Z"
    }
   },
   "source": [
    "NPClassifier(xyz,X,Ytrue)"
   ],
   "outputs": [
    {
     "ename": "IndexError",
     "evalue": "boolean index did not match indexed array along dimension 0; dimension is 3 but corresponding boolean dimension is 11",
     "output_type": "error",
     "traceback": [
      "\u001B[0;31m---------------------------------------------------------------------------\u001B[0m",
      "\u001B[0;31mIndexError\u001B[0m                                Traceback (most recent call last)",
      "Cell \u001B[0;32mIn[19], line 1\u001B[0m\n\u001B[0;32m----> 1\u001B[0m \u001B[43mNPClassifier\u001B[49m\u001B[43m(\u001B[49m\u001B[43mxyz\u001B[49m\u001B[43m,\u001B[49m\u001B[43mX\u001B[49m\u001B[43m,\u001B[49m\u001B[43mYtrue\u001B[49m\u001B[43m)\u001B[49m\n",
      "Cell \u001B[0;32mIn[18], line 15\u001B[0m, in \u001B[0;36mNPClassifier\u001B[0;34m(X_learn, y_learn, X_pred, dname)\u001B[0m\n\u001B[1;32m      2\u001B[0m \u001B[38;5;250m\u001B[39m\u001B[38;5;124;03m\"\"\"\u001B[39;00m\n\u001B[1;32m      3\u001B[0m \u001B[38;5;124;03mPrédit les étiquettes pour X_pred en utilisant la règle du Plus Proche Prototype.\u001B[39;00m\n\u001B[1;32m      4\u001B[0m \n\u001B[0;32m   (...)\u001B[0m\n\u001B[1;32m     12\u001B[0m \u001B[38;5;124;03m    list: Étiquettes prédites pour X_pred.\u001B[39;00m\n\u001B[1;32m     13\u001B[0m \u001B[38;5;124;03m\"\"\"\u001B[39;00m\n\u001B[1;32m     14\u001B[0m \u001B[38;5;66;03m# Calcul des prototypes (barycentres) pour chaque classe\u001B[39;00m\n\u001B[0;32m---> 15\u001B[0m prototypes \u001B[38;5;241m=\u001B[39m \u001B[43mprototyping\u001B[49m\u001B[43m(\u001B[49m\u001B[43mX_learn\u001B[49m\u001B[43m,\u001B[49m\u001B[43m \u001B[49m\u001B[43my_learn\u001B[49m\u001B[43m)\u001B[49m\n\u001B[1;32m     17\u001B[0m \u001B[38;5;66;03m# Prédiction pour chaque point de X_pred\u001B[39;00m\n\u001B[1;32m     18\u001B[0m y_pred \u001B[38;5;241m=\u001B[39m []\n",
      "Cell \u001B[0;32mIn[17], line 17\u001B[0m, in \u001B[0;36mprototyping\u001B[0;34m(data, indicator)\u001B[0m\n\u001B[1;32m     14\u001B[0m barycenters \u001B[38;5;241m=\u001B[39m {}\n\u001B[1;32m     16\u001B[0m \u001B[38;5;28;01mfor\u001B[39;00m cluster \u001B[38;5;129;01min\u001B[39;00m unique_clusters:\n\u001B[0;32m---> 17\u001B[0m     cluster_points \u001B[38;5;241m=\u001B[39m \u001B[43mdata\u001B[49m\u001B[43m[\u001B[49m\u001B[43mindicator\u001B[49m\u001B[43m \u001B[49m\u001B[38;5;241;43m==\u001B[39;49m\u001B[43m \u001B[49m\u001B[43mcluster\u001B[49m\u001B[43m]\u001B[49m  \u001B[38;5;66;03m# Filtrage correct\u001B[39;00m\n\u001B[1;32m     18\u001B[0m     barycenters[cluster] \u001B[38;5;241m=\u001B[39m np\u001B[38;5;241m.\u001B[39mmean(cluster_points, axis\u001B[38;5;241m=\u001B[39m\u001B[38;5;241m0\u001B[39m)\n\u001B[1;32m     20\u001B[0m \u001B[38;5;28;01mreturn\u001B[39;00m barycenters\n",
      "\u001B[0;31mIndexError\u001B[0m: boolean index did not match indexed array along dimension 0; dimension is 3 but corresponding boolean dimension is 11"
     ]
    }
   ],
   "execution_count": 19
  },
  {
   "cell_type": "code",
   "execution_count": null,
   "metadata": {},
   "outputs": [],
   "source": [
    "NPClassifier(xyz,X,Ytrue,'manhattan')"
   ]
  },
  {
   "cell_type": "code",
   "execution_count": null,
   "metadata": {},
   "outputs": [],
   "source": [
    "NPClassifier(xyz,X,Ytrue,'chebychev')"
   ]
  },
  {
   "cell_type": "code",
   "execution_count": null,
   "metadata": {},
   "outputs": [],
   "source": [
    "NPClassifier(xyz,X,Ytrue,'cosine')"
   ]
  },
  {
   "cell_type": "markdown",
   "metadata": {},
   "source": [
    "## 1-3) Reclassez les données d'apprentissage par la règle *NP*. "
   ]
  },
  {
   "cell_type": "code",
   "execution_count": null,
   "metadata": {},
   "outputs": [],
   "source": []
  },
  {
   "cell_type": "markdown",
   "metadata": {},
   "source": [
    "## Définissez la matrice de confusion de sorte de voir si tous les points sont-ils bien reclassés."
   ]
  },
  {
   "cell_type": "code",
   "execution_count": null,
   "metadata": {},
   "outputs": [],
   "source": []
  },
  {
   "cell_type": "markdown",
   "metadata": {},
   "source": [
    "***\n",
    "# 2) K Nearest-Neighbors Rule\n",
    "***"
   ]
  },
  {
   "cell_type": "markdown",
   "metadata": {},
   "source": [
    "## $(0) \\ D(x) = [d_{(1)}, d_{(2)}, ... d_{(K)}]$ \n",
    "## $\\quad \\ Y_{NN} = [Y_{(1)}, Y_{(2)}, ... Y_{(K)}]$\n",
    "## $(1) \\ L : x\\mapsto u(x)=[u_j(x)]_{j=1,c}$ tel que $u_j(x) = k_j / K$ où \n",
    "## $\\quad \\ k_j(x) = card(Y_{NN}==j)$\n",
    "## $(2) \\ A : x\\mapsto y(x) = argmax_j \\ u_j$\n",
    "***"
   ]
  },
  {
   "cell_type": "markdown",
   "metadata": {},
   "source": [
    "## 2.1) Procédons tout d'abord pas à pas.\n",
    "## Pour le calcul des distances entre les points d'apprentissage et ceux à prédire, vous utiliserez la fonction ci-dessous"
   ]
  },
  {
   "cell_type": "code",
   "metadata": {
    "ExecuteTime": {
     "end_time": "2024-11-16T19:15:12.603316Z",
     "start_time": "2024-11-16T19:15:12.600013Z"
    }
   },
   "source": [
    "def twosets_dist(X1,X2,dname='euclidean'):\n",
    "    dim1 = len(np.shape(X1))\n",
    "    dim2 = len(np.shape(X2))\n",
    "    # swap arrays if the second one is less-dimensional\n",
    "    if dim2 < dim1:\n",
    "        dim = dim2 ; dim2 = dim1 ; dim1 = dim\n",
    "        X = X2 ; X2 = X1 ; X1 = X      \n",
    "    # if first array is one-dimensional\n",
    "    if dim1<2:\n",
    "        if dim2<2:\n",
    "        # if both are\n",
    "            return dist(X1,X2,dname)\n",
    "        else:\n",
    "            distances = np.zeros(X2.shape[0])\n",
    "            for l in range(X2.shape[0]):\n",
    "                distances[l] = dist(X1,X2[l],dname)\n",
    "            return distances\n",
    "    # else\n",
    "    distances = np.zeros((X1.shape[0],X2.shape[0]))\n",
    "    for k in range(X1.shape[0]):\n",
    "        for l in range(X2.shape[0]):\n",
    "            distances[k,l] = dist(X1[k],X2[l],dname)\n",
    "    return distances"
   ],
   "outputs": [],
   "execution_count": 20
  },
  {
   "cell_type": "code",
   "metadata": {
    "ExecuteTime": {
     "end_time": "2024-11-16T19:15:16.126952Z",
     "start_time": "2024-11-16T19:15:16.123901Z"
    }
   },
   "source": [
    "twosets_dist(X_pred,X)**2"
   ],
   "outputs": [
    {
     "data": {
      "text/plain": [
       "array([[  9.,   5.,  17.,   5.,   5.,  34.,  53.,   5.,   1.,  13.,   9.],\n",
       "       [100.,  68.,  80.,  40.,  68.,  41.,   4.,  40.,  36.,  20.,  16.],\n",
       "       [ 26.,  18.,  18.,   2.,  10.,  17.,  26.,  10.,   2.,  10.,   2.]])"
      ]
     },
     "execution_count": 21,
     "metadata": {},
     "output_type": "execute_result"
    }
   ],
   "execution_count": 21
  },
  {
   "cell_type": "markdown",
   "metadata": {
    "tags": []
   },
   "source": [
    "## Etape (0) : boucle sur les points à prédire où l'on sélectionne leurs *K-NN* et les valeurs d'indicatrice $Y_{NN}$"
   ]
  },
  {
   "cell_type": "code",
   "metadata": {
    "ExecuteTime": {
     "end_time": "2024-11-16T19:15:18.209654Z",
     "start_time": "2024-11-16T19:15:18.207493Z"
    }
   },
   "source": [
    "X_learn = X\n",
    "y_learn = Ytrue\n",
    "X_pred = xyz"
   ],
   "outputs": [],
   "execution_count": 22
  },
  {
   "cell_type": "code",
   "execution_count": null,
   "metadata": {},
   "outputs": [],
   "source": [
    "test_nb = X_pred.shape[0]\n",
    "for t in range(test_nb):\n",
    "\n",
    "    \n",
    "    \n",
    "    "
   ]
  },
  {
   "cell_type": "code",
   "execution_count": null,
   "metadata": {},
   "outputs": [],
   "source": []
  },
  {
   "cell_type": "markdown",
   "metadata": {},
   "source": [
    "## Etape (L) : ajoutez dans la boucle le calcul des votes et étiquettes $u$ (\"probabilités\" dans Orange 3)"
   ]
  },
  {
   "cell_type": "code",
   "execution_count": null,
   "metadata": {},
   "outputs": [],
   "source": [
    "test_nb = X_pred.shape[0]\n",
    "class_id = np.unique(y_learn)\n",
    "class_nb = len(class_id)\n",
    "for t in range(test_nb):\n",
    "\n",
    "    \n",
    "    \n",
    "    \n",
    "    \n",
    "    \n",
    "    "
   ]
  },
  {
   "cell_type": "markdown",
   "metadata": {},
   "source": [
    "## 2-2) Reprenez le code précédent pour écrire une fonction *NNClassifier* permettant de prédire, pour tous les points d'un tableau *X_pred*, leur prédiction *y_pred* avec la règle des K (=1 par défaut) Plus Proches Voisins sur un ensemble d'apprentissage (*X_learn*, *y_learn*) au sens d'une distance *dname* (euclidienne par défaut)."
   ]
  },
  {
   "cell_type": "code",
   "execution_count": null,
   "metadata": {},
   "outputs": [],
   "source": [
    "def NNClassifier(X_pred, X_learn, y_learn, K=1, dname='euclidean'):\n",
    "\n",
    "    \n",
    "    \n",
    "    \n",
    "    \n",
    "    \n",
    "    \n",
    "    \n",
    "    \n",
    "    \n",
    "    \n",
    "    return y_pred"
   ]
  },
  {
   "cell_type": "markdown",
   "metadata": {},
   "source": [
    "## Vous la testerez sur les données de TD de sorte de trouver les résultats, y compris les (HW)."
   ]
  },
  {
   "cell_type": "code",
   "execution_count": null,
   "metadata": {},
   "outputs": [],
   "source": []
  },
  {
   "cell_type": "markdown",
   "metadata": {},
   "source": [
    "## 2-3) Reclassez les données d'apprentissage par la règle du 1-NN. Tous les points sont-ils bien reclassés ? "
   ]
  },
  {
   "cell_type": "code",
   "execution_count": null,
   "metadata": {},
   "outputs": [],
   "source": []
  },
  {
   "cell_type": "code",
   "execution_count": null,
   "metadata": {},
   "outputs": [],
   "source": []
  },
  {
   "cell_type": "code",
   "execution_count": null,
   "metadata": {},
   "outputs": [],
   "source": []
  },
  {
   "cell_type": "markdown",
   "metadata": {},
   "source": [
    "## Pourquoi un tel résultat ?"
   ]
  },
  {
   "cell_type": "code",
   "execution_count": null,
   "metadata": {},
   "outputs": [],
   "source": []
  },
  {
   "cell_type": "markdown",
   "metadata": {},
   "source": [
    "***\n",
    "# 3) Evaluation\n",
    "***"
   ]
  },
  {
   "cell_type": "markdown",
   "metadata": {},
   "source": [
    "## 3-1) Ecrivez une fonction *classif_scores* qui retourne le taux de bon classement (Classification Accuracy) à partir d'une matrice de confusion. Vous la testerez en reclassant les données d'apprentissage selon la règle *NP*."
   ]
  },
  {
   "cell_type": "code",
   "execution_count": null,
   "metadata": {},
   "outputs": [],
   "source": [
    "def classif_scores(conf_matrix):\n",
    "\n",
    "    \n",
    "    \n",
    "    return CA"
   ]
  },
  {
   "cell_type": "code",
   "execution_count": null,
   "metadata": {},
   "outputs": [],
   "source": []
  },
  {
   "cell_type": "markdown",
   "metadata": {},
   "source": [
    "## 3-2) Modifiez votre fonction de sorte qu'elle retourne aussi les scores globaux de rappel (*Recall*) et de précision (*Precision*) par classe"
   ]
  },
  {
   "cell_type": "code",
   "execution_count": null,
   "metadata": {},
   "outputs": [],
   "source": [
    "def classif_scores(conf_matrix):\n",
    "\n",
    "    \n",
    "    \n",
    "    \n",
    "    \n",
    "    \n",
    "    return CA, recalls, precisions"
   ]
  },
  {
   "cell_type": "code",
   "execution_count": null,
   "metadata": {},
   "outputs": [],
   "source": []
  },
  {
   "cell_type": "code",
   "execution_count": null,
   "metadata": {},
   "outputs": [],
   "source": []
  },
  {
   "cell_type": "code",
   "execution_count": null,
   "metadata": {},
   "outputs": [],
   "source": []
  }
 ],
 "metadata": {
  "kernelspec": {
   "display_name": "Python 3 (ipykernel)",
   "language": "python",
   "name": "python3"
  },
  "language_info": {
   "codemirror_mode": {
    "name": "ipython",
    "version": 3
   },
   "file_extension": ".py",
   "mimetype": "text/x-python",
   "name": "python",
   "nbconvert_exporter": "python",
   "pygments_lexer": "ipython3",
   "version": "3.10.9"
  }
 },
 "nbformat": 4,
 "nbformat_minor": 4
}
